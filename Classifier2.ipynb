{
 "cells": [
  {
   "cell_type": "markdown",
   "metadata": {},
   "source": [
    "Druk op ctrl+shift+J in Chrome en copy paste deze javascript code\n",
    "Deze code zoekt naar alle urls en zet ze in een bestandje onder elkaar, gescheiden door newlines (\\n)\n",
    "```javascript\n",
    "urls = Array.from(document.querySelectorAll('.rg_di .rg_meta')).map(el=>JSON.parse(el.textContent).ou);\n",
    "window.open('data:text/csv;charset=utf-8,' + escape(urls.join('\\n')));\n",
    "```\n",
    "Druk op Enter"
   ]
  },
  {
   "cell_type": "code",
   "execution_count": 2,
   "metadata": {},
   "outputs": [],
   "source": [
    "# imports voor python\n",
    "import urllib.request \n",
    "import uuid\n",
    "import os\n",
    "from PIL import Image\n",
    "from shutil import copyfile\n",
    "import random\n",
    "\n",
    "\n",
    "# our high level variables\n",
    "training_images_per_class = 256\n",
    "test_images_per_class = 64\n",
    "basepath='C:/test/classifier/dataset'\n",
    "\n",
    "# create the download path for picture files\n",
    "basepath_download = f'{basepath}/download'\n",
    "if not os.path.isdir(basepath_download):\n",
    "    os.makedirs(basepath_download)"
   ]
  },
  {
   "cell_type": "code",
   "execution_count": 3,
   "metadata": {},
   "outputs": [
    {
     "name": "stdout",
     "output_type": "stream",
     "text": [
      "Proceeding to download ['tree', 'cat'] images at best effort :-)\n",
      "I promise I will stop at 256 training images and 64 test images per class, totalling 320 images\n",
      "------------------------------------------\n",
      "\n",
      "Downloading tree\n",
      "------------------------------------------\n",
      "1 Downloaded and verified training\n",
      "2 Downloaded and verified training\n",
      "3 Downloaded and verified training\n",
      "4 Downloaded and verified training\n",
      "5 Downloaded and verified training\n",
      "6 Downloaded and verified training\n",
      "7 Downloaded and verified training\n",
      "7 Failed to download HTTP Error 403: Forbidden :-(\n",
      "8 Downloaded and verified training\n",
      "9 Downloaded and verified training\n",
      "10 Downloaded and verified training\n",
      "11 Downloaded and verified training\n",
      "12 Downloaded and verified training\n",
      "13 Downloaded and verified training\n",
      "14 Downloaded and verified training\n",
      "15 Downloaded and verified training\n",
      "16 Downloaded and verified training\n",
      "17 Downloaded and verified training\n",
      "18 Downloaded and verified training\n",
      "19 Downloaded and verified training\n",
      "20 Downloaded and verified training\n",
      "21 Downloaded and verified training\n",
      "22 Downloaded and verified training\n",
      "23 Downloaded and verified training\n",
      "24 Downloaded and verified training\n",
      "25 Downloaded and verified training\n",
      "26 Downloaded and verified training\n",
      "27 Downloaded and verified training\n",
      "28 Downloaded and verified training\n",
      "29 Downloaded and verified training\n",
      "30 Downloaded and verified training\n",
      "31 Downloaded and verified training\n",
      "32 Downloaded and verified training\n",
      "33 Downloaded and verified training\n",
      "34 Downloaded and verified training\n",
      "35 Downloaded and verified training\n",
      "36 Downloaded and verified training\n",
      "37 Downloaded and verified training\n",
      "38 Downloaded and verified training\n",
      "39 Downloaded and verified training\n",
      "40 Downloaded and verified training\n",
      "41 Downloaded and verified training\n",
      "42 Downloaded and verified training\n",
      "43 Downloaded and verified training\n",
      "43 Failed to download HTTP Error 403: Forbidden :-(\n",
      "44 Downloaded and verified training\n",
      "44 Failed to download HTTP Error 403: Forbidden :-(\n",
      "44 Failed to download cannot identify image file 'C:/test/classifier/dataset/training_set/tree/566f005a-dd8b-45bb-b6af-2f5bf826114c.png' :-(\n",
      "45 Downloaded and verified training\n",
      "46 Downloaded and verified training\n",
      "47 Downloaded and verified training\n",
      "48 Downloaded and verified training\n",
      "49 Downloaded and verified training\n",
      "49 Failed to download HTTP Error 403: Forbidden :-(\n",
      "50 Downloaded and verified training\n",
      "51 Downloaded and verified training\n",
      "52 Downloaded and verified training\n",
      "53 Downloaded and verified training\n",
      "54 Downloaded and verified training\n",
      "55 Downloaded and verified training\n",
      "56 Downloaded and verified training\n",
      "57 Downloaded and verified training\n",
      "57 Failed to download HTTP Error 403: Forbidden :-(\n",
      "57 Failed to download HTTP Error 403: Forbidden :-(\n",
      "58 Downloaded and verified training\n",
      "59 Downloaded and verified training\n",
      "59 Failed to download cannot identify image file 'C:/test/classifier/dataset/training_set/tree/3b62c22b-ef0c-40d3-9c37-c1a06add0bb4.png' :-(\n",
      "59 Failed to download cannot identify image file 'C:/test/classifier/dataset/training_set/tree/787a3d31-dbf1-4656-9a5a-3002bb11bfe5.png' :-(\n",
      "60 Downloaded and verified training\n",
      "61 Downloaded and verified training\n",
      "62 Downloaded and verified training\n",
      "63 Downloaded and verified training\n",
      "64 Downloaded and verified training\n",
      "64 Failed to download cannot identify image file 'C:/test/classifier/dataset/training_set/tree/557bf691-9a27-4426-9f94-7cc062dee987.png' :-(\n",
      "65 Downloaded and verified training\n",
      "65 Failed to download HTTP Error 403: Forbidden :-(\n",
      "65 Failed to download HTTP Error 403: Forbidden :-(\n",
      "66 Downloaded and verified training\n",
      "67 Downloaded and verified training\n",
      "68 Downloaded and verified training\n",
      "69 Downloaded and verified training\n",
      "70 Downloaded and verified training\n",
      "71 Downloaded and verified training\n",
      "72 Downloaded and verified training\n",
      "72 Failed to download HTTP Error 403: Forbidden :-(\n",
      "73 Downloaded and verified training\n",
      "73 Failed to download HTTP Error 403: Forbidden :-(\n",
      "74 Downloaded and verified training\n",
      "74 Failed to download HTTP Error 403: Forbidden :-(\n",
      "75 Downloaded and verified training\n",
      "76 Downloaded and verified training\n",
      "77 Downloaded and verified training\n",
      "78 Downloaded and verified training\n",
      "79 Downloaded and verified training\n",
      "79 Failed to download HTTP Error 403: Forbidden :-(\n",
      "80 Downloaded and verified training\n",
      "81 Downloaded and verified training\n",
      "82 Downloaded and verified training\n",
      "83 Downloaded and verified training\n",
      "84 Downloaded and verified training\n",
      "85 Downloaded and verified training\n",
      "86 Downloaded and verified training\n",
      "87 Downloaded and verified training\n",
      "88 Downloaded and verified training\n",
      "89 Downloaded and verified training\n",
      "90 Downloaded and verified training\n",
      "90 Failed to download HTTP Error 403: Forbidden :-(\n",
      "90 Failed to download HTTP Error 403: Forbidden :-(\n",
      "91 Downloaded and verified training\n",
      "92 Downloaded and verified training\n",
      "92 Failed to download HTTP Error 403: Forbidden :-(\n",
      "93 Downloaded and verified training\n",
      "94 Downloaded and verified training\n",
      "95 Downloaded and verified training\n",
      "96 Downloaded and verified training\n",
      "97 Downloaded and verified training\n",
      "97 Failed to download HTTP Error 403: Forbidden :-(\n",
      "98 Downloaded and verified training\n",
      "99 Downloaded and verified training\n",
      "100 Downloaded and verified training\n",
      "101 Downloaded and verified training\n",
      "101 Failed to download HTTP Error 403: Forbidden :-(\n",
      "102 Downloaded and verified training\n",
      "103 Downloaded and verified training\n",
      "103 Failed to download cannot identify image file 'C:/test/classifier/dataset/training_set/tree/46a6c3ef-c7da-45fa-98a2-fc6db5b0f7ed.png' :-(\n",
      "104 Downloaded and verified training\n",
      "105 Downloaded and verified training\n",
      "105 Failed to download HTTP Error 403: Forbidden :-(\n",
      "106 Downloaded and verified training\n",
      "107 Downloaded and verified training\n",
      "107 Failed to download HTTP Error 403: Forbidden :-(\n",
      "107 Failed to download HTTP Error 403: Forbidden :-(\n",
      "108 Downloaded and verified training\n",
      "109 Downloaded and verified training\n",
      "110 Downloaded and verified training\n",
      "111 Downloaded and verified training\n",
      "112 Downloaded and verified training\n",
      "113 Downloaded and verified training\n",
      "114 Downloaded and verified training\n",
      "115 Downloaded and verified training\n",
      "116 Downloaded and verified training\n",
      "117 Downloaded and verified training\n",
      "118 Downloaded and verified training\n",
      "119 Downloaded and verified training\n",
      "119 Failed to download HTTP Error 403: Forbidden :-(\n",
      "119 Failed to download HTTP Error 403: Forbidden :-(\n",
      "120 Downloaded and verified training\n",
      "121 Downloaded and verified training\n",
      "122 Downloaded and verified training\n",
      "122 Failed to download HTTP Error 403: Forbidden :-(\n",
      "123 Downloaded and verified training\n",
      "123 Failed to download HTTP Error 403: Forbidden :-(\n",
      "124 Downloaded and verified training\n",
      "124 Failed to download HTTP Error 403: Forbidden :-(\n",
      "124 Failed to download HTTP Error 403: Forbidden :-(\n",
      "125 Downloaded and verified training\n",
      "126 Downloaded and verified training\n",
      "127 Downloaded and verified training\n",
      "128 Downloaded and verified training\n",
      "128 Failed to download HTTP Error 403: Forbidden :-(\n",
      "128 Failed to download HTTP Error 403: Forbidden :-(\n",
      "128 Failed to download HTTP Error 403: Forbidden :-(\n",
      "129 Downloaded and verified training\n",
      "130 Downloaded and verified training\n",
      "131 Downloaded and verified training\n",
      "132 Downloaded and verified training\n",
      "132 Failed to download HTTP Error 403: Forbidden :-(\n",
      "132 Failed to download HTTP Error 403: Forbidden :-(\n",
      "133 Downloaded and verified training\n",
      "134 Downloaded and verified training\n",
      "134 Failed to download HTTP Error 403: Forbidden :-(\n",
      "135 Downloaded and verified training\n",
      "136 Downloaded and verified training\n",
      "136 Failed to download HTTP Error 403: Forbidden :-(\n",
      "137 Downloaded and verified training\n",
      "138 Downloaded and verified training\n",
      "139 Downloaded and verified training\n",
      "140 Downloaded and verified training\n",
      "141 Downloaded and verified training\n",
      "142 Downloaded and verified training\n",
      "143 Downloaded and verified training\n",
      "144 Downloaded and verified training\n",
      "145 Downloaded and verified training\n",
      "146 Downloaded and verified training\n",
      "147 Downloaded and verified training\n",
      "148 Downloaded and verified training\n",
      "149 Downloaded and verified training\n",
      "150 Downloaded and verified training\n",
      "151 Downloaded and verified training\n",
      "152 Downloaded and verified training\n",
      "152 Failed to download HTTP Error 403: Forbidden :-(\n"
     ]
    },
    {
     "name": "stdout",
     "output_type": "stream",
     "text": [
      "153 Downloaded and verified training\n",
      "154 Downloaded and verified training\n",
      "155 Downloaded and verified training\n",
      "156 Downloaded and verified training\n",
      "156 Failed to download HTTP Error 403: Forbidden :-(\n",
      "157 Downloaded and verified training\n",
      "158 Downloaded and verified training\n",
      "159 Downloaded and verified training\n",
      "160 Downloaded and verified training\n",
      "161 Downloaded and verified training\n",
      "162 Downloaded and verified training\n",
      "163 Downloaded and verified training\n",
      "164 Downloaded and verified training\n",
      "165 Downloaded and verified training\n",
      "166 Downloaded and verified training\n",
      "167 Downloaded and verified training\n",
      "168 Downloaded and verified training\n",
      "169 Downloaded and verified training\n",
      "170 Downloaded and verified training\n",
      "171 Downloaded and verified training\n",
      "172 Downloaded and verified training\n",
      "173 Downloaded and verified training\n",
      "174 Downloaded and verified training\n",
      "174 Failed to download HTTP Error 403: Forbidden :-(\n",
      "175 Downloaded and verified training\n",
      "176 Downloaded and verified training\n",
      "177 Downloaded and verified training\n",
      "178 Downloaded and verified training\n",
      "179 Downloaded and verified training\n",
      "180 Downloaded and verified training\n",
      "181 Downloaded and verified training\n",
      "182 Downloaded and verified training\n",
      "183 Downloaded and verified training\n",
      "184 Downloaded and verified training\n",
      "184 Failed to download HTTP Error 403: Forbidden :-(\n",
      "185 Downloaded and verified training\n",
      "185 Failed to download HTTP Error 502: Bad Gateway :-(\n",
      "185 Failed to download HTTP Error 403: Forbidden :-(\n",
      "186 Downloaded and verified training\n",
      "187 Downloaded and verified training\n",
      "187 Failed to download HTTP Error 403: Forbidden :-(\n",
      "188 Downloaded and verified training\n",
      "189 Downloaded and verified training\n",
      "190 Downloaded and verified training\n",
      "191 Downloaded and verified training\n",
      "192 Downloaded and verified training\n",
      "193 Downloaded and verified training\n",
      "194 Downloaded and verified training\n",
      "195 Downloaded and verified training\n",
      "195 Failed to download HTTP Error 403: Forbidden :-(\n",
      "196 Downloaded and verified training\n",
      "196 Failed to download HTTP Error 403: Forbidden :-(\n",
      "197 Downloaded and verified training\n",
      "198 Downloaded and verified training\n",
      "199 Downloaded and verified training\n",
      "200 Downloaded and verified training\n",
      "201 Downloaded and verified training\n",
      "202 Downloaded and verified training\n",
      "202 Failed to download HTTP Error 403: Forbidden :-(\n",
      "202 Failed to download HTTP Error 403: Forbidden :-(\n",
      "202 Failed to download HTTP Error 403: Forbidden :-(\n",
      "203 Downloaded and verified training\n",
      "203 Failed to download HTTP Error 403: Forbidden :-(\n",
      "204 Downloaded and verified training\n",
      "205 Downloaded and verified training\n",
      "206 Downloaded and verified training\n",
      "207 Downloaded and verified training\n",
      "208 Downloaded and verified training\n",
      "209 Downloaded and verified training\n",
      "210 Downloaded and verified training\n",
      "211 Downloaded and verified training\n",
      "212 Downloaded and verified training\n",
      "213 Downloaded and verified training\n",
      "214 Downloaded and verified training\n",
      "215 Downloaded and verified training\n",
      "216 Downloaded and verified training\n",
      "216 Failed to download cannot identify image file 'C:/test/classifier/dataset/training_set/tree/26589f2e-7920-439d-bc18-2de35b61100e.png' :-(\n",
      "217 Downloaded and verified training\n",
      "217 Failed to download HTTP Error 403: Forbidden :-(\n",
      "218 Downloaded and verified training\n",
      "219 Downloaded and verified training\n",
      "219 Failed to download HTTP Error 403: Forbidden :-(\n",
      "219 Failed to download HTTP Error 403: Forbidden :-(\n",
      "220 Downloaded and verified training\n",
      "221 Downloaded and verified training\n",
      "222 Downloaded and verified training\n",
      "223 Downloaded and verified training\n",
      "224 Downloaded and verified training\n",
      "225 Downloaded and verified training\n",
      "226 Downloaded and verified training\n",
      "227 Downloaded and verified training\n",
      "228 Downloaded and verified training\n",
      "229 Downloaded and verified training\n",
      "230 Downloaded and verified training\n",
      "230 Failed to download HTTP Error 403: Forbidden :-(\n",
      "231 Downloaded and verified training\n",
      "232 Downloaded and verified training\n",
      "233 Downloaded and verified training\n",
      "234 Downloaded and verified training\n",
      "235 Downloaded and verified training\n",
      "236 Downloaded and verified training\n",
      "237 Downloaded and verified training\n",
      "238 Downloaded and verified training\n",
      "239 Downloaded and verified training\n",
      "239 Failed to download HTTP Error 403: Forbidden :-(\n",
      "240 Downloaded and verified training\n",
      "241 Downloaded and verified training\n",
      "242 Downloaded and verified training\n",
      "243 Downloaded and verified training\n",
      "244 Downloaded and verified training\n",
      "245 Downloaded and verified training\n",
      "246 Downloaded and verified training\n",
      "247 Downloaded and verified training\n",
      "248 Downloaded and verified training\n",
      "249 Downloaded and verified training\n",
      "250 Downloaded and verified training\n",
      "251 Downloaded and verified training\n",
      "252 Downloaded and verified training\n",
      "253 Downloaded and verified training\n",
      "254 Downloaded and verified training\n",
      "255 Downloaded and verified training\n",
      "255 Failed to download <urlopen error [SSL: CERTIFICATE_VERIFY_FAILED] certificate verify failed: unable to get local issuer certificate (_ssl.c:1051)> :-(\n",
      "255 Failed to download HTTP Error 403: Forbidden :-(\n",
      "256 Downloaded and verified training\n",
      "257 Downloaded and verified test\n",
      "258 Downloaded and verified test\n",
      "single prediction copy included\n",
      "259 Downloaded and verified test\n",
      "260 Downloaded and verified test\n",
      "260 Failed to download HTTP Error 403: Forbidden :-(\n",
      "261 Downloaded and verified test\n",
      "262 Downloaded and verified test\n",
      "263 Downloaded and verified test\n",
      "263 Failed to download cannot identify image file 'C:/test/classifier/dataset/test_set/tree/88cc993b-dcb6-4a2e-8adb-6c5cdd61a57d.png' :-(\n",
      "264 Downloaded and verified test\n",
      "265 Downloaded and verified test\n",
      "266 Downloaded and verified test\n",
      "267 Downloaded and verified test\n",
      "268 Downloaded and verified test\n",
      "269 Downloaded and verified test\n",
      "270 Downloaded and verified test\n",
      "271 Downloaded and verified test\n",
      "271 Failed to download HTTP Error 403: Forbidden :-(\n",
      "271 Failed to download cannot identify image file 'C:/test/classifier/dataset/test_set/tree/344b5e2b-19d7-4c30-baa6-e7770a1a60d1.png' :-(\n",
      "272 Downloaded and verified test\n",
      "273 Downloaded and verified test\n",
      "274 Downloaded and verified test\n",
      "275 Downloaded and verified test\n",
      "276 Downloaded and verified test\n",
      "single prediction copy included\n",
      "277 Downloaded and verified test\n",
      "278 Downloaded and verified test\n",
      "279 Downloaded and verified test\n",
      "280 Downloaded and verified test\n",
      "280 Failed to download HTTP Error 403: Forbidden :-(\n",
      "single prediction copy included\n",
      "281 Downloaded and verified test\n",
      "single prediction copy included\n",
      "282 Downloaded and verified test\n",
      "283 Downloaded and verified test\n",
      "284 Downloaded and verified test\n",
      "285 Downloaded and verified test\n",
      "286 Downloaded and verified test\n",
      "287 Downloaded and verified test\n",
      "288 Downloaded and verified test\n",
      "289 Downloaded and verified test\n",
      "290 Downloaded and verified test\n",
      "291 Downloaded and verified test\n",
      "292 Downloaded and verified test\n",
      "292 Failed to download HTTP Error 403: Forbidden :-(\n",
      "292 Failed to download HTTP Error 403: Forbidden :-(\n",
      "293 Downloaded and verified test\n",
      "294 Downloaded and verified test\n",
      "295 Downloaded and verified test\n",
      "296 Downloaded and verified test\n",
      "single prediction copy included\n",
      "297 Downloaded and verified test\n",
      "297 Failed to download HTTP Error 403: Forbidden :-(\n",
      "298 Downloaded and verified test\n",
      "299 Downloaded and verified test\n",
      "300 Downloaded and verified test\n",
      "301 Downloaded and verified test\n",
      "302 Downloaded and verified test\n",
      "303 Downloaded and verified test\n",
      "303 Failed to download HTTP Error 403: Forbidden :-(\n",
      "304 Downloaded and verified test\n",
      "305 Downloaded and verified test\n",
      "306 Downloaded and verified test\n",
      "single prediction copy included\n",
      "307 Downloaded and verified test\n",
      "308 Downloaded and verified test\n",
      "308 Failed to download HTTP Error 403: Forbidden :-(\n",
      "308 Failed to download HTTP Error 403: Forbidden :-(\n",
      "309 Downloaded and verified test\n",
      "310 Downloaded and verified test\n",
      "311 Downloaded and verified test\n",
      "312 Downloaded and verified test\n",
      "313 Downloaded and verified test\n",
      "314 Downloaded and verified test\n",
      "315 Downloaded and verified test\n",
      "315 Failed to download HTTP Error 403: Forbidden :-(\n"
     ]
    },
    {
     "name": "stderr",
     "output_type": "stream",
     "text": [
      "C:\\Users\\mvanderuitenbeek\\AppData\\Local\\Continuum\\anaconda3\\lib\\site-packages\\PIL\\Image.py:2655: UserWarning: image file could not be identified because WEBP support not installed\n",
      "  warnings.warn(message)\n"
     ]
    },
    {
     "name": "stdout",
     "output_type": "stream",
     "text": [
      "315 Failed to download cannot identify image file 'C:/test/classifier/dataset/test_set/tree/2f4cc8ce-6ada-4641-990e-0c86d9bb5cce.png' :-(\n",
      "316 Downloaded and verified test\n",
      "317 Downloaded and verified test\n",
      "318 Downloaded and verified test\n",
      "319 Downloaded and verified test\n",
      "320 Downloaded and verified test\n",
      "Done downloading tree! Total of 320 images\n",
      "\n",
      "Downloading cat\n",
      "------------------------------------------\n",
      "1 Downloaded and verified training\n",
      "2 Downloaded and verified training\n",
      "3 Downloaded and verified training\n",
      "4 Downloaded and verified training\n",
      "5 Downloaded and verified training\n",
      "6 Downloaded and verified training\n",
      "7 Downloaded and verified training\n",
      "8 Downloaded and verified training\n",
      "9 Downloaded and verified training\n",
      "9 Failed to download HTTP Error 403: Forbidden :-(\n",
      "10 Downloaded and verified training\n",
      "11 Downloaded and verified training\n",
      "12 Downloaded and verified training\n",
      "13 Downloaded and verified training\n",
      "14 Downloaded and verified training\n",
      "15 Downloaded and verified training\n",
      "16 Downloaded and verified training\n",
      "17 Downloaded and verified training\n",
      "17 Failed to download HTTP Error 403: Forbidden :-(\n",
      "18 Downloaded and verified training\n",
      "19 Downloaded and verified training\n",
      "20 Downloaded and verified training\n",
      "20 Failed to download HTTP Error 403: Forbidden :-(\n",
      "20 Failed to download cannot identify image file 'C:/test/classifier/dataset/training_set/cat/e1015c11-4673-4769-9ae1-712f8da26401.png' :-(\n",
      "21 Downloaded and verified training\n",
      "22 Downloaded and verified training\n",
      "23 Downloaded and verified training\n",
      "24 Downloaded and verified training\n",
      "25 Downloaded and verified training\n",
      "26 Downloaded and verified training\n",
      "27 Downloaded and verified training\n",
      "28 Downloaded and verified training\n",
      "28 Failed to download cannot identify image file 'C:/test/classifier/dataset/training_set/cat/262f01f5-20c5-4e5b-9758-c457b8f96cd1.png' :-(\n",
      "29 Downloaded and verified training\n",
      "29 Failed to download HTTP Error 403: Forbidden :-(\n",
      "30 Downloaded and verified training\n",
      "31 Downloaded and verified training\n",
      "32 Downloaded and verified training\n",
      "33 Downloaded and verified training\n",
      "34 Downloaded and verified training\n",
      "35 Downloaded and verified training\n",
      "36 Downloaded and verified training\n",
      "36 Failed to download HTTP Error 403: Forbidden :-(\n",
      "36 Failed to download HTTP Error 403: Forbidden :-(\n",
      "37 Downloaded and verified training\n",
      "38 Downloaded and verified training\n",
      "39 Downloaded and verified training\n",
      "40 Downloaded and verified training\n",
      "41 Downloaded and verified training\n",
      "42 Downloaded and verified training\n",
      "43 Downloaded and verified training\n",
      "44 Downloaded and verified training\n",
      "45 Downloaded and verified training\n",
      "46 Downloaded and verified training\n",
      "46 Failed to download HTTP Error 403: Forbidden :-(\n",
      "47 Downloaded and verified training\n",
      "48 Downloaded and verified training\n",
      "49 Downloaded and verified training\n",
      "50 Downloaded and verified training\n",
      "51 Downloaded and verified training\n",
      "52 Downloaded and verified training\n",
      "53 Downloaded and verified training\n",
      "54 Downloaded and verified training\n",
      "55 Downloaded and verified training\n",
      "56 Downloaded and verified training\n",
      "57 Downloaded and verified training\n",
      "58 Downloaded and verified training\n",
      "59 Downloaded and verified training\n",
      "60 Downloaded and verified training\n",
      "61 Downloaded and verified training\n",
      "62 Downloaded and verified training\n",
      "62 Failed to download HTTP Error 403: Forbidden :-(\n",
      "63 Downloaded and verified training\n",
      "64 Downloaded and verified training\n",
      "65 Downloaded and verified training\n",
      "66 Downloaded and verified training\n",
      "67 Downloaded and verified training\n",
      "68 Downloaded and verified training\n",
      "69 Downloaded and verified training\n",
      "70 Downloaded and verified training\n",
      "71 Downloaded and verified training\n",
      "72 Downloaded and verified training\n",
      "72 Failed to download HTTP Error 403: Forbidden :-(\n",
      "73 Downloaded and verified training\n",
      "74 Downloaded and verified training\n",
      "75 Downloaded and verified training\n",
      "76 Downloaded and verified training\n",
      "77 Downloaded and verified training\n",
      "78 Downloaded and verified training\n",
      "79 Downloaded and verified training\n",
      "80 Downloaded and verified training\n",
      "81 Downloaded and verified training\n",
      "82 Downloaded and verified training\n",
      "83 Downloaded and verified training\n",
      "84 Downloaded and verified training\n",
      "85 Downloaded and verified training\n",
      "86 Downloaded and verified training\n",
      "87 Downloaded and verified training\n",
      "88 Downloaded and verified training\n",
      "88 Failed to download HTTP Error 403: Forbidden :-(\n",
      "88 Failed to download cannot identify image file 'C:/test/classifier/dataset/training_set/cat/e5f1e90a-7d14-463b-a97c-9dcc054fd45c.png' :-(\n",
      "88 Failed to download cannot identify image file 'C:/test/classifier/dataset/training_set/cat/42cd619d-8f33-4faf-bc6e-3f2261f2b5cb.png' :-(\n",
      "89 Downloaded and verified training\n",
      "90 Downloaded and verified training\n",
      "91 Downloaded and verified training\n",
      "92 Downloaded and verified training\n",
      "93 Downloaded and verified training\n",
      "94 Downloaded and verified training\n",
      "94 Failed to download HTTP Error 403: Forbidden :-(\n",
      "95 Downloaded and verified training\n",
      "96 Downloaded and verified training\n",
      "97 Downloaded and verified training\n",
      "98 Downloaded and verified training\n",
      "99 Downloaded and verified training\n",
      "100 Downloaded and verified training\n",
      "101 Downloaded and verified training\n",
      "102 Downloaded and verified training\n",
      "102 Failed to download HTTP Error 403: Forbidden :-(\n",
      "102 Failed to download HTTP Error 403: Forbidden :-(\n",
      "103 Downloaded and verified training\n",
      "104 Downloaded and verified training\n",
      "105 Downloaded and verified training\n",
      "106 Downloaded and verified training\n",
      "107 Downloaded and verified training\n",
      "108 Downloaded and verified training\n",
      "109 Downloaded and verified training\n",
      "110 Downloaded and verified training\n",
      "111 Downloaded and verified training\n",
      "112 Downloaded and verified training\n",
      "113 Downloaded and verified training\n",
      "113 Failed to download HTTP Error 403: Forbidden :-(\n",
      "114 Downloaded and verified training\n",
      "115 Downloaded and verified training\n",
      "116 Downloaded and verified training\n",
      "117 Downloaded and verified training\n",
      "117 Failed to download HTTP Error 403: Forbidden :-(\n",
      "118 Downloaded and verified training\n",
      "119 Downloaded and verified training\n",
      "120 Downloaded and verified training\n",
      "121 Downloaded and verified training\n",
      "122 Downloaded and verified training\n",
      "122 Failed to download HTTP Error 403: Forbidden :-(\n",
      "123 Downloaded and verified training\n",
      "123 Failed to download HTTP Error 403: Forbidden :-(\n",
      "124 Downloaded and verified training\n",
      "125 Downloaded and verified training\n",
      "126 Downloaded and verified training\n",
      "127 Downloaded and verified training\n",
      "128 Downloaded and verified training\n",
      "128 Failed to download HTTP Error 403: Forbidden :-(\n",
      "129 Downloaded and verified training\n",
      "130 Downloaded and verified training\n",
      "131 Downloaded and verified training\n",
      "132 Downloaded and verified training\n",
      "133 Downloaded and verified training\n",
      "134 Downloaded and verified training\n",
      "135 Downloaded and verified training\n",
      "136 Downloaded and verified training\n",
      "137 Downloaded and verified training\n",
      "138 Downloaded and verified training\n",
      "139 Downloaded and verified training\n",
      "140 Downloaded and verified training\n",
      "141 Downloaded and verified training\n",
      "142 Downloaded and verified training\n",
      "143 Downloaded and verified training\n",
      "144 Downloaded and verified training\n",
      "145 Downloaded and verified training\n",
      "146 Downloaded and verified training\n",
      "146 Failed to download cannot identify image file 'C:/test/classifier/dataset/training_set/cat/91cdbf0f-3f61-4b5d-9edb-56bdad190f06.png' :-(\n",
      "146 Failed to download cannot identify image file 'C:/test/classifier/dataset/training_set/cat/ed43947b-b94a-478d-8e9f-e84ebf32b543.png' :-(\n",
      "147 Downloaded and verified training\n",
      "148 Downloaded and verified training\n",
      "149 Downloaded and verified training\n",
      "150 Downloaded and verified training\n",
      "150 Failed to download HTTP Error 403: Forbidden :-(\n",
      "151 Downloaded and verified training\n",
      "151 Failed to download HTTP Error 403: Forbidden :-(\n",
      "152 Downloaded and verified training\n",
      "153 Downloaded and verified training\n",
      "154 Downloaded and verified training\n",
      "155 Downloaded and verified training\n",
      "155 Failed to download HTTP Error 403: Forbidden :-(\n",
      "155 Failed to download HTTP Error 403: Forbidden :-(\n",
      "155 Failed to download HTTP Error 403: Forbidden :-(\n",
      "156 Downloaded and verified training\n",
      "157 Downloaded and verified training\n",
      "158 Downloaded and verified training\n"
     ]
    },
    {
     "name": "stdout",
     "output_type": "stream",
     "text": [
      "158 Failed to download HTTP Error 403: Forbidden :-(\n",
      "159 Downloaded and verified training\n",
      "160 Downloaded and verified training\n",
      "161 Downloaded and verified training\n",
      "162 Downloaded and verified training\n",
      "163 Downloaded and verified training\n",
      "164 Downloaded and verified training\n",
      "165 Downloaded and verified training\n",
      "166 Downloaded and verified training\n",
      "166 Failed to download HTTP Error 403: Forbidden :-(\n",
      "167 Downloaded and verified training\n",
      "168 Downloaded and verified training\n",
      "168 Failed to download HTTP Error 403: Forbidden :-(\n",
      "168 Failed to download HTTP Error 403: Forbidden :-(\n",
      "169 Downloaded and verified training\n",
      "170 Downloaded and verified training\n",
      "171 Downloaded and verified training\n",
      "172 Downloaded and verified training\n",
      "173 Downloaded and verified training\n",
      "174 Downloaded and verified training\n",
      "175 Downloaded and verified training\n",
      "176 Downloaded and verified training\n",
      "177 Downloaded and verified training\n",
      "178 Downloaded and verified training\n",
      "178 Failed to download HTTP Error 403: Forbidden :-(\n",
      "179 Downloaded and verified training\n",
      "180 Downloaded and verified training\n",
      "181 Downloaded and verified training\n",
      "182 Downloaded and verified training\n",
      "183 Downloaded and verified training\n",
      "184 Downloaded and verified training\n",
      "185 Downloaded and verified training\n",
      "185 Failed to download HTTP Error 404: Not Found :-(\n",
      "185 Failed to download HTTP Error 403: Forbidden :-(\n",
      "186 Downloaded and verified training\n",
      "187 Downloaded and verified training\n",
      "188 Downloaded and verified training\n",
      "189 Downloaded and verified training\n",
      "190 Downloaded and verified training\n",
      "191 Downloaded and verified training\n",
      "192 Downloaded and verified training\n",
      "193 Downloaded and verified training\n",
      "193 Failed to download HTTP Error 403: Forbidden :-(\n",
      "194 Downloaded and verified training\n",
      "195 Downloaded and verified training\n",
      "196 Downloaded and verified training\n",
      "197 Downloaded and verified training\n",
      "197 Failed to download HTTP Error 403: Forbidden :-(\n",
      "197 Failed to download HTTP Error 403: Forbidden :-(\n",
      "198 Downloaded and verified training\n",
      "199 Downloaded and verified training\n",
      "200 Downloaded and verified training\n",
      "200 Failed to download HTTP Error 403: Forbidden :-(\n",
      "201 Downloaded and verified training\n",
      "202 Downloaded and verified training\n",
      "203 Downloaded and verified training\n",
      "204 Downloaded and verified training\n",
      "205 Downloaded and verified training\n",
      "206 Downloaded and verified training\n",
      "207 Downloaded and verified training\n",
      "208 Downloaded and verified training\n",
      "209 Downloaded and verified training\n",
      "210 Downloaded and verified training\n",
      "211 Downloaded and verified training\n",
      "212 Downloaded and verified training\n",
      "213 Downloaded and verified training\n",
      "213 Failed to download HTTP Error 403: Forbidden :-(\n",
      "213 Failed to download HTTP Error 403: Forbidden :-(\n",
      "214 Downloaded and verified training\n",
      "215 Downloaded and verified training\n",
      "216 Downloaded and verified training\n",
      "217 Downloaded and verified training\n",
      "218 Downloaded and verified training\n",
      "218 Failed to download cannot identify image file 'C:/test/classifier/dataset/training_set/cat/9f66adb6-7f0d-4ce1-ab90-b7ac0b61eaea.png' :-(\n",
      "218 Failed to download HTTP Error 403: Forbidden :-(\n",
      "219 Downloaded and verified training\n",
      "220 Downloaded and verified training\n",
      "221 Downloaded and verified training\n",
      "222 Downloaded and verified training\n",
      "223 Downloaded and verified training\n",
      "224 Downloaded and verified training\n",
      "225 Downloaded and verified training\n",
      "226 Downloaded and verified training\n",
      "227 Downloaded and verified training\n",
      "227 Failed to download HTTP Error 403: Forbidden :-(\n",
      "228 Downloaded and verified training\n",
      "228 Failed to download HTTP Error 403: Forbidden :-(\n",
      "229 Downloaded and verified training\n",
      "230 Downloaded and verified training\n",
      "231 Downloaded and verified training\n",
      "232 Downloaded and verified training\n",
      "233 Downloaded and verified training\n",
      "234 Downloaded and verified training\n",
      "235 Downloaded and verified training\n",
      "236 Downloaded and verified training\n",
      "237 Downloaded and verified training\n",
      "238 Downloaded and verified training\n",
      "239 Downloaded and verified training\n",
      "239 Failed to download cannot identify image file 'C:/test/classifier/dataset/training_set/cat/e1906872-7b19-41a7-be20-c01a5e51b5ff.png' :-(\n",
      "240 Downloaded and verified training\n",
      "241 Downloaded and verified training\n",
      "242 Downloaded and verified training\n",
      "242 Failed to download HTTP Error 403: Forbidden :-(\n",
      "243 Downloaded and verified training\n",
      "243 Failed to download HTTP Error 403: Forbidden :-(\n",
      "244 Downloaded and verified training\n",
      "245 Downloaded and verified training\n",
      "246 Downloaded and verified training\n",
      "246 Failed to download HTTP Error 403: Forbidden :-(\n",
      "247 Downloaded and verified training\n",
      "248 Downloaded and verified training\n",
      "249 Downloaded and verified training\n",
      "250 Downloaded and verified training\n",
      "251 Downloaded and verified training\n",
      "252 Downloaded and verified training\n",
      "253 Downloaded and verified training\n",
      "254 Downloaded and verified training\n",
      "255 Downloaded and verified training\n",
      "256 Downloaded and verified training\n",
      "single prediction copy included\n",
      "257 Downloaded and verified test\n",
      "258 Downloaded and verified test\n",
      "259 Downloaded and verified test\n",
      "259 Failed to download HTTP Error 403: Forbidden :-(\n",
      "260 Downloaded and verified test\n",
      "260 Failed to download HTTP Error 403: Forbidden :-(\n",
      "261 Downloaded and verified test\n",
      "single prediction copy included\n",
      "262 Downloaded and verified test\n",
      "263 Downloaded and verified test\n",
      "264 Downloaded and verified test\n",
      "265 Downloaded and verified test\n",
      "266 Downloaded and verified test\n",
      "single prediction copy included\n",
      "267 Downloaded and verified test\n",
      "268 Downloaded and verified test\n",
      "269 Downloaded and verified test\n",
      "single prediction copy included\n",
      "270 Downloaded and verified test\n",
      "271 Downloaded and verified test\n",
      "272 Downloaded and verified test\n",
      "273 Downloaded and verified test\n",
      "274 Downloaded and verified test\n",
      "274 Failed to download HTTP Error 403: Forbidden :-(\n",
      "275 Downloaded and verified test\n",
      "276 Downloaded and verified test\n",
      "277 Downloaded and verified test\n",
      "277 Failed to download HTTP Error 403: Forbidden :-(\n",
      "278 Downloaded and verified test\n",
      "279 Downloaded and verified test\n",
      "single prediction copy included\n",
      "280 Downloaded and verified test\n",
      "281 Downloaded and verified test\n",
      "282 Downloaded and verified test\n",
      "283 Downloaded and verified test\n",
      "284 Downloaded and verified test\n",
      "284 Failed to download HTTP Error 403: Forbidden :-(\n",
      "285 Downloaded and verified test\n",
      "285 Failed to download HTTP Error 403: Forbidden :-(\n",
      "286 Downloaded and verified test\n",
      "287 Downloaded and verified test\n",
      "287 Failed to download <urlopen error [SSL: CERTIFICATE_VERIFY_FAILED] certificate verify failed: unable to get local issuer certificate (_ssl.c:1051)> :-(\n",
      "288 Downloaded and verified test\n",
      "289 Downloaded and verified test\n",
      "289 Failed to download HTTP Error 403: Forbidden :-(\n",
      "290 Downloaded and verified test\n",
      "291 Downloaded and verified test\n",
      "single prediction copy included\n",
      "292 Downloaded and verified test\n",
      "293 Downloaded and verified test\n",
      "294 Downloaded and verified test\n",
      "295 Downloaded and verified test\n",
      "296 Downloaded and verified test\n",
      "297 Downloaded and verified test\n",
      "298 Downloaded and verified test\n",
      "299 Downloaded and verified test\n",
      "300 Downloaded and verified test\n",
      "301 Downloaded and verified test\n",
      "302 Downloaded and verified test\n",
      "303 Downloaded and verified test\n",
      "single prediction copy included\n",
      "304 Downloaded and verified test\n",
      "305 Downloaded and verified test\n",
      "306 Downloaded and verified test\n",
      "307 Downloaded and verified test\n",
      "308 Downloaded and verified test\n",
      "308 Failed to download HTTP Error 403: Forbidden :-(\n",
      "309 Downloaded and verified test\n",
      "single prediction copy included\n",
      "310 Downloaded and verified test\n",
      "single prediction copy included\n",
      "311 Downloaded and verified test\n",
      "single prediction copy included\n",
      "312 Downloaded and verified test\n",
      "312 Failed to download HTTP Error 403: Forbidden :-(\n",
      "single prediction copy included\n",
      "313 Downloaded and verified test\n",
      "313 Failed to download HTTP Error 403: Forbidden :-(\n",
      "314 Downloaded and verified test\n",
      "315 Downloaded and verified test\n",
      "316 Downloaded and verified test\n",
      "316 Failed to download cannot identify image file 'C:/test/classifier/dataset/test_set/cat/15f157ea-0625-4706-925b-6989335c612d.png' :-(\n",
      "317 Downloaded and verified test\n",
      "318 Downloaded and verified test\n",
      "319 Downloaded and verified test\n",
      "single prediction copy included\n",
      "320 Downloaded and verified test\n",
      "Done downloading cat! Total of 320 images\n",
      "Done downloading everything, congratulations!!\n"
     ]
    }
   ],
   "source": [
    "# change this for every new class you download. e.g. marley, cat, tree\n",
    "class_names = ['tree', 'cat']\n",
    "\n",
    "print (f'Proceeding to download {class_names} images at best effort :-)')\n",
    "print (f'I promise I will stop at {training_images_per_class} training images and {test_images_per_class} test images per class, totalling {training_images_per_class + test_images_per_class} images')\n",
    "print ('------------------------------------------')\n",
    "for class_name in class_names:\n",
    "    print ('')\n",
    "    print (f'Downloading {class_name}')\n",
    "    print ('------------------------------------------')\n",
    "    # open the downloaded chrome file with all the urls\n",
    "    f=open(f'{basepath_download}/{class_name}','r')\n",
    "\n",
    "    # make sure training and test sub paths exist. Careful, if you execute this code twice it will simply add new files. Old files will not be deleted\n",
    "    basepath_training = f'{basepath}/training_set/{class_name}' \n",
    "    basepath_test = f'{basepath}/test_set/{class_name}' \n",
    "    basepath_single_prediction = f'{basepath}/single_prediction/{class_name}' \n",
    "\n",
    "    if not os.path.isdir(basepath_training):\n",
    "        os.makedirs(basepath_training)\n",
    "    if not os.path.isdir(basepath_test):\n",
    "        os.makedirs(basepath_test)\n",
    "    if not os.path.isdir(basepath_single_prediction):\n",
    "        os.makedirs(basepath_single_prediction)\n",
    "\n",
    "    # download each file\n",
    "    count=0\n",
    "    for url in f:\n",
    "        # limit to xxx images, download extra images for testing purposes\n",
    "        if count>=training_images_per_class+test_images_per_class:\n",
    "            break;\n",
    "\n",
    "        # check where to download the image to\n",
    "        new_uuid = uuid.uuid4()\n",
    "        type_download = ''\n",
    "        if count+1<= training_images_per_class:\n",
    "            filename = f'{basepath_training}/{new_uuid}.png' \n",
    "            type_download = 'training'\n",
    "        else:\n",
    "            filename = f'{basepath_test}/{new_uuid}.png' \n",
    "            type_download = 'test'\n",
    "\n",
    "        # the actual download. Make sure files are not corrupted\n",
    "        try:\n",
    "            # download the file\n",
    "            urllib.request.urlretrieve(url, filename)\n",
    "\n",
    "            # check if the file is ok\n",
    "            img = Image.open(filename) \n",
    "            img.verify() \n",
    "\n",
    "            # for 20% of the test images, copy to single prediction\n",
    "            if (type_download == 'test' and random.randint(0, 100)<10):\n",
    "                sp_file = f'{basepath_single_prediction}/{new_uuid}.png' \n",
    "                copyfile(filename, sp_file)\n",
    "                print (\"single prediction copy included\")\n",
    "\n",
    "            count+= 1\n",
    "            print (count, f\"Downloaded and verified {type_download}\")\n",
    "\n",
    "        except Exception as e:\n",
    "            # remove the corrupt file if it exists\n",
    "            if os.path.isfile(filename):\n",
    "                os.remove(filename)\n",
    "            print (count, 'Failed to download', e, ':-(')\n",
    "\n",
    "    print (f'Done downloading {class_name}! Total of {count} images')\n",
    "    \n",
    "print ('Done downloading everything, congratulations!!')"
   ]
  },
  {
   "cell_type": "code",
   "execution_count": 4,
   "metadata": {},
   "outputs": [
    {
     "name": "stderr",
     "output_type": "stream",
     "text": [
      "Using TensorFlow backend.\n"
     ]
    },
    {
     "name": "stdout",
     "output_type": "stream",
     "text": [
      "WARNING:tensorflow:From C:\\Users\\mvanderuitenbeek\\AppData\\Local\\Continuum\\anaconda3\\lib\\site-packages\\tensorflow\\python\\framework\\op_def_library.py:263: colocate_with (from tensorflow.python.framework.ops) is deprecated and will be removed in a future version.\n",
      "Instructions for updating:\n",
      "Colocations handled automatically by placer.\n"
     ]
    }
   ],
   "source": [
    "# Importing the Keras libraries and packages\n",
    "from keras.models import Sequential\n",
    "from keras.layers import Conv2D\n",
    "from keras.layers import MaxPooling2D\n",
    "from keras.layers import Flatten\n",
    "from keras.layers import Dense\n",
    "\n",
    "# Initialising the CNN\n",
    "classifier = Sequential() # simpel model met layers lineair achter elkaar\n",
    "# Step 1 - Convolution\n",
    "classifier.add(Conv2D(32, (3, 3), input_shape = (64, 64, 1), activation = 'relu'))\n",
    "# Step 2 - Pooling\n",
    "classifier.add(MaxPooling2D(pool_size = (2, 2)))\n",
    "# Adding a second convolutional layer\n",
    "classifier.add(Conv2D(32, (3, 3), activation = 'relu'))\n",
    "classifier.add(MaxPooling2D(pool_size = (2, 2)))\n",
    "# Step 3 - Flattening\n",
    "classifier.add(Flatten())\n",
    "# Step 4 - Full connection\n",
    "classifier.add(Dense(units = 128, activation = 'relu'))\n",
    "classifier.add(Dense(units = 1, activation = 'sigmoid'))\n",
    "# Compiling the CNN\n",
    "classifier.compile(optimizer = 'adam', loss = 'binary_crossentropy', metrics = ['accuracy'])"
   ]
  },
  {
   "cell_type": "code",
   "execution_count": 6,
   "metadata": {
    "scrolled": false
   },
   "outputs": [
    {
     "name": "stdout",
     "output_type": "stream",
     "text": [
      "Found 567 images belonging to 2 classes.\n",
      "Found 128 images belonging to 2 classes.\n",
      "Epoch 1/2\n",
      "8/8 [==============================] - 41s 5s/step - loss: 0.6653 - acc: 0.5703 - val_loss: 0.5992 - val_acc: 0.6172\n",
      "Epoch 2/2\n",
      "8/8 [==============================] - 41s 5s/step - loss: 0.6266 - acc: 0.6250 - val_loss: 0.5647 - val_acc: 0.6250\n"
     ]
    }
   ],
   "source": [
    "# Part 2 - Fitting the CNN to the images\n",
    "from keras.preprocessing.image import ImageDataGenerator\n",
    "\n",
    "train_datagen = ImageDataGenerator(rescale = 1./255,\n",
    "                                   shear_range = 0.2,\n",
    "                                   zoom_range = 0.2,\n",
    "                                   horizontal_flip = True)\n",
    "\n",
    "test_datagen = ImageDataGenerator(rescale = 1./255)\n",
    "\n",
    "training_set = train_datagen.flow_from_directory(f'{basepath}/training_set', \n",
    "                                                 target_size = (64, 64), \n",
    "                                                 batch_size = 32, \n",
    "                                                 color_mode='grayscale', # dit is veel sneller dan rgb\n",
    "                                                 class_mode = 'binary')\n",
    "\n",
    "test_set = test_datagen.flow_from_directory(f'{basepath}/test_set', \n",
    "                                            target_size = (64, 64), \n",
    "                                            batch_size = 32, \n",
    "                                            color_mode='grayscale', # dit is veel sneller dan rgb\n",
    "                                            class_mode = 'binary')\n",
    "history = classifier.fit_generator(training_set, \n",
    "                         steps_per_epoch = training_images_per_class/32, # number of images per class / batch size\n",
    "                         epochs = 2, # number of times you expose the full dataset to the neural network\n",
    "                         validation_data = test_set,\n",
    "                         validation_steps = test_images_per_class)"
   ]
  },
  {
   "cell_type": "code",
   "execution_count": 8,
   "metadata": {},
   "outputs": [
    {
     "data": {
      "text/plain": [
       "[]"
      ]
     },
     "execution_count": 8,
     "metadata": {},
     "output_type": "execute_result"
    },
    {
     "data": {
      "image/png": "[encoded data removed]",
      "text/plain": [
       "<Figure size 432x288 with 1 Axes>"
      ]
     },
     "metadata": {
      "needs_background": "light"
     },
     "output_type": "display_data"
    },
    {
     "data": {
      "image/png": "[encoded data removed]",
      "text/plain": [
       "<Figure size 432x288 with 1 Axes>"
      ]
     },
     "metadata": {
      "needs_background": "light"
     },
     "output_type": "display_data"
    }
   ],
   "source": [
    "from matplotlib import pyplot as plt\n",
    "# get results from training\n",
    "acc = history.history['acc']\n",
    "val_acc = history.history['val_acc']\n",
    "loss = history.history['loss']\n",
    "val_loss = history.history['val_loss']\n",
    "epochs = range(1, len(acc) + 1)\n",
    "\n",
    "# plot the accuracy\n",
    "plt.plot(epochs, acc, 'bo', label='Training acc')\n",
    "plt.plot(epochs, val_acc, 'b', label='Validation acc')\n",
    "plt.title('Training and validation accuracy')\n",
    "plt.legend()\n",
    "plt.figure()\n",
    "\n",
    "# plot the loss\n",
    "plt.plot(epochs, loss, 'bo', label='Training loss')\n",
    "plt.plot(epochs, val_loss, 'b', label='Validation loss')\n",
    "plt.title('Training and validation loss')\n",
    "plt.legend()\n",
    "\n",
    "# print the result to screen\n",
    "plt.plot()"
   ]
  },
  {
   "cell_type": "code",
   "execution_count": 11,
   "metadata": {},
   "outputs": [
    {
     "name": "stdout",
     "output_type": "stream",
     "text": [
      "I trained these classifications: {'cat': 0, 'tree': 1}\n",
      "04980ce8-46f3-4fe7-9a6c-dbf4a839addd.png\n"
     ]
    },
    {
     "data": {
      "image/png": "[encoded data removed]",
      "text/plain": [
       "<PIL.JpegImagePlugin.JpegImageFile image mode=RGB size=64x32 at 0x1E6246F5BE0>"
      ]
     },
     "metadata": {},
     "output_type": "display_data"
    },
    {
     "data": {
      "text/plain": [
       "'I believe this is tree'"
      ]
     },
     "metadata": {},
     "output_type": "display_data"
    },
    {
     "name": "stdout",
     "output_type": "stream",
     "text": [
      "096ab2f4-63aa-4f54-9bd8-4e249fef4e75.png\n"
     ]
    },
    {
     "data": {
      "image/png": "[encoded data removed]",
      "text/plain": [
       "<PIL.JpegImagePlugin.JpegImageFile image mode=RGB size=64x35 at 0x1E6246F5940>"
      ]
     },
     "metadata": {},
     "output_type": "display_data"
    },
    {
     "data": {
      "text/plain": [
       "'I believe this is tree'"
      ]
     },
     "metadata": {},
     "output_type": "display_data"
    },
    {
     "name": "stdout",
     "output_type": "stream",
     "text": [
      "14785398-cb11-4628-997c-7b703a0b342c.png\n"
     ]
    },
    {
     "data": {
      "image/png": "[encoded data removed]",
      "text/plain": [
       "<PIL.JpegImagePlugin.JpegImageFile image mode=RGB size=64x32 at 0x1E617199FD0>"
      ]
     },
     "metadata": {},
     "output_type": "display_data"
    },
    {
     "data": {
      "text/plain": [
       "'I believe this is tree'"
      ]
     },
     "metadata": {},
     "output_type": "display_data"
    },
    {
     "name": "stdout",
     "output_type": "stream",
     "text": [
      "288462ce-54d0-4307-b909-a2d2511e0e0c.png\n"
     ]
    },
    {
     "data": {
      "image/png": "[encoded data removed]",
      "text/plain": [
       "<PIL.JpegImagePlugin.JpegImageFile image mode=RGB size=64x35 at 0x1E6246DC128>"
      ]
     },
     "metadata": {},
     "output_type": "display_data"
    },
    {
     "data": {
      "text/plain": [
       "'I believe this is cat'"
      ]
     },
     "metadata": {},
     "output_type": "display_data"
    },
    {
     "name": "stdout",
     "output_type": "stream",
     "text": [
      "362bf29c-531b-47b2-b072-6907961de906.png\n"
     ]
    },
    {
     "data": {
      "image/png": "[encoded data removed]",
      "text/plain": [
       "<PIL.JpegImagePlugin.JpegImageFile image mode=RGB size=47x64 at 0x1E6247068D0>"
      ]
     },
     "metadata": {},
     "output_type": "display_data"
    },
    {
     "data": {
      "text/plain": [
       "'no idea'"
      ]
     },
     "metadata": {},
     "output_type": "display_data"
    },
    {
     "name": "stdout",
     "output_type": "stream",
     "text": [
      "36c2b1a7-df22-47ae-8088-18d22779200e.png\n"
     ]
    },
    {
     "data": {
      "image/png": "[encoded data removed]",
      "text/plain": [
       "<PIL.JpegImagePlugin.JpegImageFile image mode=RGB size=64x44 at 0x1E6247060F0>"
      ]
     },
     "metadata": {},
     "output_type": "display_data"
    },
    {
     "data": {
      "text/plain": [
       "'I believe this is cat'"
      ]
     },
     "metadata": {},
     "output_type": "display_data"
    },
    {
     "name": "stdout",
     "output_type": "stream",
     "text": [
      "40b59b02-daec-4d2e-9389-4cc5940bc886.png\n"
     ]
    },
    {
     "data": {
      "image/png": "[encoded data removed]",
      "text/plain": [
       "<PIL.JpegImagePlugin.JpegImageFile image mode=RGB size=64x62 at 0x1E6247068D0>"
      ]
     },
     "metadata": {},
     "output_type": "display_data"
    },
    {
     "data": {
      "text/plain": [
       "'I believe this is tree'"
      ]
     },
     "metadata": {},
     "output_type": "display_data"
    },
    {
     "name": "stdout",
     "output_type": "stream",
     "text": [
      "4a1ddcd7-7979-42b6-ac16-3fe8cb170f21.png\n"
     ]
    },
    {
     "data": {
      "image/png": "[encoded data removed]",
      "text/plain": [
       "<PIL.JpegImagePlugin.JpegImageFile image mode=RGB size=64x36 at 0x1E6247067B8>"
      ]
     },
     "metadata": {},
     "output_type": "display_data"
    },
    {
     "data": {
      "text/plain": [
       "'I believe this is tree'"
      ]
     },
     "metadata": {},
     "output_type": "display_data"
    },
    {
     "name": "stdout",
     "output_type": "stream",
     "text": [
      "5723cb9c-2d2a-4025-9aae-b6253e24df0e.png\n"
     ]
    },
    {
     "data": {
      "image/png": "[encoded data removed]",
      "text/plain": [
       "<PIL.JpegImagePlugin.JpegImageFile image mode=RGB size=64x42 at 0x1E6246DC128>"
      ]
     },
     "metadata": {},
     "output_type": "display_data"
    },
    {
     "data": {
      "text/plain": [
       "'I believe this is cat'"
      ]
     },
     "metadata": {},
     "output_type": "display_data"
    },
    {
     "name": "stdout",
     "output_type": "stream",
     "text": [
      "5bd5c377-faa8-43b4-b327-021ad60d82a1.png\n"
     ]
    },
    {
     "data": {
      "image/png": "[encoded data removed]",
      "text/plain": [
       "<PIL.JpegImagePlugin.JpegImageFile image mode=RGB size=38x64 at 0x1E6247067B8>"
      ]
     },
     "metadata": {},
     "output_type": "display_data"
    },
    {
     "data": {
      "text/plain": [
       "'I believe this is cat'"
      ]
     },
     "metadata": {},
     "output_type": "display_data"
    },
    {
     "name": "stdout",
     "output_type": "stream",
     "text": [
      "86553ded-70ad-44ae-9a81-186a3cb64005.png\n"
     ]
    },
    {
     "data": {
      "image/png": "[encoded data removed]",
      "text/plain": [
       "<PIL.JpegImagePlugin.JpegImageFile image mode=RGB size=64x42 at 0x1E624706668>"
      ]
     },
     "metadata": {},
     "output_type": "display_data"
    },
    {
     "data": {
      "text/plain": [
       "'I believe this is tree'"
      ]
     },
     "metadata": {},
     "output_type": "display_data"
    },
    {
     "name": "stdout",
     "output_type": "stream",
     "text": [
      "8f45a932-fb8a-4198-888a-ea8a490fa8ce.png\n"
     ]
    },
    {
     "data": {
      "image/png": "[encoded data removed]",
      "text/plain": [
       "<PIL.JpegImagePlugin.JpegImageFile image mode=RGB size=64x38 at 0x1E6247067B8>"
      ]
     },
     "metadata": {},
     "output_type": "display_data"
    },
    {
     "data": {
      "text/plain": [
       "'no idea'"
      ]
     },
     "metadata": {},
     "output_type": "display_data"
    },
    {
     "name": "stdout",
     "output_type": "stream",
     "text": [
      "a78ed962-95a6-46be-a8a1-9006f2e80889.png\n"
     ]
    },
    {
     "data": {
      "image/png": "[encoded data removed]",
      "text/plain": [
       "<PIL.JpegImagePlugin.JpegImageFile image mode=RGB size=64x48 at 0x1E6247068D0>"
      ]
     },
     "metadata": {},
     "output_type": "display_data"
    },
    {
     "data": {
      "text/plain": [
       "'I believe this is tree'"
      ]
     },
     "metadata": {},
     "output_type": "display_data"
    },
    {
     "name": "stdout",
     "output_type": "stream",
     "text": [
      "ba0a2ddc-4281-44b8-8746-2c97d54d84af.png\n"
     ]
    },
    {
     "data": {
      "image/png": "[encoded data removed]",
      "text/plain": [
       "<PIL.PngImagePlugin.PngImageFile image mode=RGBA size=64x61 at 0x1E6247067B8>"
      ]
     },
     "metadata": {},
     "output_type": "display_data"
    },
    {
     "data": {
      "text/plain": [
       "'no idea'"
      ]
     },
     "metadata": {},
     "output_type": "display_data"
    },
    {
     "name": "stdout",
     "output_type": "stream",
     "text": [
      "c3267e5b-9c64-4cf2-9ca5-e335d5327008.png\n"
     ]
    },
    {
     "data": {
      "image/png": "[encoded data removed]",
      "text/plain": [
       "<PIL.JpegImagePlugin.JpegImageFile image mode=RGB size=64x30 at 0x1E6247068D0>"
      ]
     },
     "metadata": {},
     "output_type": "display_data"
    },
    {
     "data": {
      "text/plain": [
       "'I believe this is tree'"
      ]
     },
     "metadata": {},
     "output_type": "display_data"
    },
    {
     "name": "stdout",
     "output_type": "stream",
     "text": [
      "c77bcd73-3dd5-4552-b6cc-bef218014089.png\n"
     ]
    },
    {
     "data": {
      "image/png": "[encoded data removed]",
      "text/plain": [
       "<PIL.JpegImagePlugin.JpegImageFile image mode=RGB size=64x40 at 0x1E628F2DC50>"
      ]
     },
     "metadata": {},
     "output_type": "display_data"
    },
    {
     "data": {
      "text/plain": [
       "'I believe this is tree'"
      ]
     },
     "metadata": {},
     "output_type": "display_data"
    },
    {
     "name": "stdout",
     "output_type": "stream",
     "text": [
      "cdac2fdd-9159-439e-84ea-4cb96006f56c.png\n"
     ]
    },
    {
     "data": {
      "image/png": "[encoded data removed]",
      "text/plain": [
       "<PIL.JpegImagePlugin.JpegImageFile image mode=RGB size=64x37 at 0x1E6246DC128>"
      ]
     },
     "metadata": {},
     "output_type": "display_data"
    },
    {
     "data": {
      "text/plain": [
       "'no idea'"
      ]
     },
     "metadata": {},
     "output_type": "display_data"
    },
    {
     "name": "stdout",
     "output_type": "stream",
     "text": [
      "eb341a8f-53ae-4c6e-ba80-64fc1c1ca82e.png\n"
     ]
    },
    {
     "data": {
      "image/png": "[encoded data removed]",
      "text/plain": [
       "<PIL.JpegImagePlugin.JpegImageFile image mode=RGB size=64x42 at 0x1E6246DCBA8>"
      ]
     },
     "metadata": {},
     "output_type": "display_data"
    },
    {
     "data": {
      "text/plain": [
       "'no idea'"
      ]
     },
     "metadata": {},
     "output_type": "display_data"
    }
   ],
   "source": [
    "# Part 3 - Making new predictions\n",
    "import numpy as np\n",
    "from keras.preprocessing import image\n",
    "\n",
    "single_prediction_path=f'{basepath}/single_prediction/'\n",
    "files = os.listdir(single_prediction_path)\n",
    "\n",
    "# list the categories that were trained (cat, elvis, dog etc)\n",
    "classifications=training_set.class_indices\n",
    "print (\"I trained these classifications:\", classifications)\n",
    "\n",
    "# now iterate through all the images we want analysed in the single_prediction folder and predict their classification\n",
    "for file in files:\n",
    "    # predict and save result\n",
    "    print(file)\n",
    "    test_image = image.load_img(single_prediction_path+file, target_size = (64, 64), grayscale=True)\n",
    "    test_image = image.img_to_array(test_image)\n",
    "    test_image = np.expand_dims(test_image, axis = 0)\n",
    "    result = classifier.predict(test_image)\n",
    "\n",
    "    # see what folder name (class) the result belongs to\n",
    "    prediction = \"no idea\"\n",
    "    for classification in classifications:\n",
    "        if classifications[classification] == result:\n",
    "            prediction = 'I believe this is ' + classification\n",
    "            break\n",
    "\n",
    "    # show the image and the prediction\n",
    "    pil_im = Image.open(single_prediction_path+file)\n",
    "    pil_im.thumbnail((64,64))\n",
    "    display(pil_im, prediction)\n"
   ]
  },
  {
   "cell_type": "code",
   "execution_count": null,
   "metadata": {},
   "outputs": [],
   "source": []
  }
 ],
 "metadata": {
  "kernelspec": {
   "display_name": "Python 3",
   "language": "python",
   "name": "python3"
  },
  "language_info": {
   "codemirror_mode": {
    "name": "ipython",
    "version": 3
   },
   "file_extension": ".py",
   "mimetype": "text/x-python",
   "name": "python",
   "nbconvert_exporter": "python",
   "pygments_lexer": "ipython3",
   "version": "3.7.1"
  }
 },
 "nbformat": 4,
 "nbformat_minor": 2
}
