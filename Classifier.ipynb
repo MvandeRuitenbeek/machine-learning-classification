{
 "cells": [
  {
   "cell_type": "markdown",
   "metadata": {},
   "source": [
    "Ga naar Chrome en zoek in Google images naar plaatjes van bijv katten.\n",
    "Ga naar advanced search en zoek naar .png files van medium grootte\n",
    "\n",
    "Druk op ctrl+shift+J in Chrome en copy paste deze javascript code\n",
    "Deze code zoekt naar alle urls en zet ze in een bestandje onder elkaar, gescheiden door newlines (\\n)\n",
    "\n",
    "```javascript\n",
    "urls = Array.from(document.querySelectorAll('.rg_di .rg_meta')).map(el=>JSON.parse(el.textContent).ou);\n",
    "window.open('data:text/csv;charset=utf-8,' + escape(urls.join('\\n')));\n",
    "```\n",
    "Druk op Enter"
   ]
  },
  {
   "cell_type": "code",
   "execution_count": 1,
   "metadata": {},
   "outputs": [
    {
     "name": "stdout",
     "output_type": "stream",
     "text": [
      "I will download the classes: ['cat', 'tree']\n"
     ]
    }
   ],
   "source": [
    "# imports voor python\n",
    "import urllib.request \n",
    "import uuid\n",
    "import os\n",
    "from PIL import Image, ImageFile\n",
    "from shutil import copyfile\n",
    "import random\n",
    "\n",
    "# our high level variables\n",
    "training_images_per_class = 256\n",
    "test_images_per_class = 64\n",
    "basepath='C:/test/classifier/dataset'\n",
    "\n",
    "# create the download path for picture files\n",
    "basepath_download = f'{basepath}/download'\n",
    "os.makedirs(basepath_download, exist_ok=True)\n",
    "\n",
    "# create single prediction path\n",
    "basepath_single_prediction = f'{basepath}/single_prediction' \n",
    "os.makedirs(basepath_single_prediction, exist_ok=True)\n",
    "    \n",
    "# find the classes to be downloaded\n",
    "class_names = []\n",
    "for file in os.listdir(basepath_download):\n",
    "    class_names.append(file)\n",
    "print (f'I will download the classes: {class_names}')"
   ]
  },
  {
   "cell_type": "code",
   "execution_count": 2,
   "metadata": {},
   "outputs": [
    {
     "name": "stdout",
     "output_type": "stream",
     "text": [
      "Proceeding to download ['cat', 'tree'] images at best effort :-)\n",
      "I will download 256 training images and 64 test images per class, totalling 320 images\n",
      "------------------------------------------\n",
      "\n",
      "Downloading cat\n",
      "------------------------------------------\n",
      "Previously already downloaded 320 images\n",
      "Done downloading cat! Total of 320 images\n",
      "\n",
      "Downloading tree\n",
      "------------------------------------------\n",
      "Previously already downloaded 159 images\n",
      "160 Downloaded and verified tree in training\n",
      "161 Downloaded and verified tree in training\n",
      "161 Failed to download HTTP Error 403: Forbidden :-(\n",
      "162 Downloaded and verified tree in training\n",
      "163 Downloaded and verified tree in training\n",
      "164 Downloaded and verified tree in training\n",
      "165 Downloaded and verified tree in training\n",
      "166 Downloaded and verified tree in training\n",
      "167 Downloaded and verified tree in training\n",
      "167 Failed to download HTTP Error 403: Forbidden :-(\n",
      "167 Failed to download HTTP Error 403: Forbidden :-(\n",
      "168 Downloaded and verified tree in training\n",
      "169 Downloaded and verified tree in training\n",
      "169 Failed to download HTTP Error 403: Forbidden :-(\n",
      "170 Downloaded and verified tree in training\n",
      "171 Downloaded and verified tree in training\n",
      "172 Downloaded and verified tree in training\n",
      "173 Downloaded and verified tree in training\n",
      "174 Downloaded and verified tree in training\n",
      "175 Downloaded and verified tree in training\n",
      "176 Downloaded and verified tree in training\n",
      "177 Downloaded and verified tree in training\n",
      "178 Downloaded and verified tree in training\n",
      "179 Downloaded and verified tree in training\n",
      "180 Downloaded and verified tree in training\n",
      "181 Downloaded and verified tree in training\n",
      "182 Downloaded and verified tree in training\n",
      "183 Downloaded and verified tree in training\n",
      "184 Downloaded and verified tree in training\n",
      "185 Downloaded and verified tree in training\n",
      "185 Failed to download HTTP Error 403: Forbidden :-(\n",
      "186 Downloaded and verified tree in training\n",
      "187 Downloaded and verified tree in training\n",
      "188 Downloaded and verified tree in training\n",
      "189 Downloaded and verified tree in training\n",
      "189 Failed to download HTTP Error 403: Forbidden :-(\n",
      "190 Downloaded and verified tree in training\n",
      "191 Downloaded and verified tree in training\n",
      "192 Downloaded and verified tree in training\n",
      "193 Downloaded and verified tree in training\n",
      "194 Downloaded and verified tree in training\n",
      "195 Downloaded and verified tree in training\n",
      "196 Downloaded and verified tree in training\n",
      "197 Downloaded and verified tree in training\n",
      "198 Downloaded and verified tree in training\n",
      "199 Downloaded and verified tree in training\n",
      "200 Downloaded and verified tree in training\n",
      "200 Failed to download HTTP Error 403: Forbidden :-(\n",
      "201 Downloaded and verified tree in training\n",
      "202 Downloaded and verified tree in training\n",
      "202 Failed to download HTTP Error 403: Forbidden :-(\n",
      "203 Downloaded and verified tree in training\n",
      "203 Failed to download HTTP Error 403: Forbidden :-(\n",
      "204 Downloaded and verified tree in training\n",
      "205 Downloaded and verified tree in training\n",
      "206 Downloaded and verified tree in training\n",
      "207 Downloaded and verified tree in training\n",
      "208 Downloaded and verified tree in training\n",
      "209 Downloaded and verified tree in training\n",
      "210 Downloaded and verified tree in training\n",
      "210 Failed to download HTTP Error 403: Forbidden :-(\n",
      "211 Downloaded and verified tree in training\n",
      "212 Downloaded and verified tree in training\n",
      "213 Downloaded and verified tree in training\n",
      "213 Failed to download HTTP Error 403: Forbidden :-(\n",
      "214 Downloaded and verified tree in training\n",
      "215 Downloaded and verified tree in training\n",
      "215 Failed to download HTTP Error 502: Bad Gateway :-(\n",
      "216 Downloaded and verified tree in training\n",
      "217 Downloaded and verified tree in training\n",
      "218 Downloaded and verified tree in training\n",
      "219 Downloaded and verified tree in training\n",
      "220 Downloaded and verified tree in training\n",
      "221 Downloaded and verified tree in training\n",
      "222 Downloaded and verified tree in training\n",
      "223 Downloaded and verified tree in training\n",
      "223 Failed to download HTTP Error 403: Forbidden :-(\n",
      "224 Downloaded and verified tree in training\n",
      "224 Failed to download HTTP Error 403: Forbidden :-(\n",
      "225 Downloaded and verified tree in training\n",
      "226 Downloaded and verified tree in training\n",
      "226 Failed to download HTTP Error 403: Forbidden :-(\n",
      "227 Downloaded and verified tree in training\n",
      "228 Downloaded and verified tree in training\n",
      "229 Downloaded and verified tree in training\n",
      "229 Failed to download HTTP Error 403: Forbidden :-(\n",
      "230 Downloaded and verified tree in training\n",
      "231 Downloaded and verified tree in training\n",
      "232 Downloaded and verified tree in training\n",
      "233 Downloaded and verified tree in training\n",
      "234 Downloaded and verified tree in training\n",
      "235 Downloaded and verified tree in training\n",
      "235 Failed to download HTTP Error 403: Forbidden :-(\n",
      "235 Failed to download HTTP Error 403: Forbidden :-(\n",
      "236 Downloaded and verified tree in training\n",
      "237 Downloaded and verified tree in training\n",
      "238 Downloaded and verified tree in training\n",
      "239 Downloaded and verified tree in training\n",
      "240 Downloaded and verified tree in training\n",
      "241 Downloaded and verified tree in training\n",
      "242 Downloaded and verified tree in training\n",
      "242 Failed to download HTTP Error 403: Forbidden :-(\n",
      "242 Failed to download HTTP Error 403: Forbidden :-(\n",
      "243 Downloaded and verified tree in training\n",
      "243 Failed to download HTTP Error 403: Forbidden :-(\n",
      "243 Failed to download HTTP Error 403: Forbidden :-(\n",
      "243 Failed to download HTTP Error 403: Forbidden :-(\n",
      "244 Downloaded and verified tree in training\n",
      "245 Downloaded and verified tree in training\n",
      "246 Downloaded and verified tree in training\n",
      "246 Failed to download HTTP Error 403: Forbidden :-(\n",
      "247 Downloaded and verified tree in training\n",
      "248 Downloaded and verified tree in training\n",
      "248 Failed to download cannot identify image file 'C:/test/classifier/dataset/training_set/tree/7dd0f6ee-9cad-4145-9f37-1441e73a55ac.png' :-(\n",
      "248 Failed to download HTTP Error 403: Forbidden :-(\n",
      "249 Downloaded and verified tree in training\n",
      "250 Downloaded and verified tree in training\n",
      "251 Downloaded and verified tree in training\n",
      "251 Failed to download HTTP Error 403: Forbidden :-(\n",
      "252 Downloaded and verified tree in training\n",
      "253 Downloaded and verified tree in training\n",
      "254 Downloaded and verified tree in training\n",
      "254 Failed to download cannot identify image file 'C:/test/classifier/dataset/training_set/tree/342e96ac-0bc3-4466-a893-7de006d1fe60.png' :-(\n",
      "255 Downloaded and verified tree in training\n",
      "256 Downloaded and verified tree in training\n",
      "257 Downloaded and verified tree in test\n",
      "single prediction copy included\n",
      "258 Downloaded and verified tree in test\n",
      "258 Failed to download HTTP Error 403: Forbidden :-(\n",
      "single prediction copy included\n",
      "259 Downloaded and verified tree in test\n",
      "259 Failed to download HTTP Error 403: Forbidden :-(\n",
      "260 Downloaded and verified tree in test\n",
      "261 Downloaded and verified tree in test\n",
      "single prediction copy included\n",
      "262 Downloaded and verified tree in test\n",
      "263 Downloaded and verified tree in test\n",
      "263 Failed to download HTTP Error 403: Forbidden :-(\n",
      "263 Failed to download HTTP Error 403: Forbidden :-(\n",
      "264 Downloaded and verified tree in test\n",
      "265 Downloaded and verified tree in test\n",
      "266 Downloaded and verified tree in test\n",
      "267 Downloaded and verified tree in test\n",
      "268 Downloaded and verified tree in test\n",
      "single prediction copy included\n",
      "269 Downloaded and verified tree in test\n",
      "270 Downloaded and verified tree in test\n",
      "271 Downloaded and verified tree in test\n",
      "272 Downloaded and verified tree in test\n",
      "single prediction copy included\n",
      "273 Downloaded and verified tree in test\n",
      "274 Downloaded and verified tree in test\n",
      "275 Downloaded and verified tree in test\n",
      "276 Downloaded and verified tree in test\n",
      "277 Downloaded and verified tree in test\n",
      "278 Downloaded and verified tree in test\n",
      "279 Downloaded and verified tree in test\n",
      "280 Downloaded and verified tree in test\n",
      "281 Downloaded and verified tree in test\n",
      "282 Downloaded and verified tree in test\n",
      "283 Downloaded and verified tree in test\n",
      "284 Downloaded and verified tree in test\n",
      "285 Downloaded and verified tree in test\n",
      "286 Downloaded and verified tree in test\n",
      "286 Failed to download HTTP Error 403: Forbidden :-(\n",
      "286 Failed to download cannot identify image file 'C:/test/classifier/dataset/test_set/tree/b9b43097-ec9d-4a06-83e1-9be3aa74de80.png' :-(\n"
     ]
    },
    {
     "name": "stdout",
     "output_type": "stream",
     "text": [
      "287 Downloaded and verified tree in test\n",
      "288 Downloaded and verified tree in test\n",
      "288 Failed to download HTTP Error 403: Forbidden :-(\n",
      "289 Downloaded and verified tree in test\n",
      "290 Downloaded and verified tree in test\n",
      "291 Downloaded and verified tree in test\n",
      "292 Downloaded and verified tree in test\n",
      "293 Downloaded and verified tree in test\n",
      "294 Downloaded and verified tree in test\n",
      "single prediction copy included\n",
      "295 Downloaded and verified tree in test\n",
      "single prediction copy included\n",
      "296 Downloaded and verified tree in test\n",
      "297 Downloaded and verified tree in test\n",
      "single prediction copy included\n",
      "298 Downloaded and verified tree in test\n",
      "single prediction copy included\n",
      "299 Downloaded and verified tree in test\n",
      "300 Downloaded and verified tree in test\n",
      "301 Downloaded and verified tree in test\n",
      "single prediction copy included\n",
      "302 Downloaded and verified tree in test\n",
      "single prediction copy included\n",
      "303 Downloaded and verified tree in test\n",
      "303 Failed to download HTTP Error 403: Forbidden :-(\n",
      "304 Downloaded and verified tree in test\n",
      "305 Downloaded and verified tree in test\n",
      "single prediction copy included\n",
      "306 Downloaded and verified tree in test\n",
      "307 Downloaded and verified tree in test\n",
      "308 Downloaded and verified tree in test\n",
      "308 Failed to download HTTP Error 403: Forbidden :-(\n",
      "308 Failed to download <urlopen error [SSL: CERTIFICATE_VERIFY_FAILED] certificate verify failed: unable to get local issuer certificate (_ssl.c:1051)> :-(\n",
      "309 Downloaded and verified tree in test\n",
      "309 Failed to download <urlopen error [SSL: CERTIFICATE_VERIFY_FAILED] certificate verify failed: unable to get local issuer certificate (_ssl.c:1051)> :-(\n",
      "310 Downloaded and verified tree in test\n",
      "311 Downloaded and verified tree in test\n",
      "312 Downloaded and verified tree in test\n",
      "313 Downloaded and verified tree in test\n",
      "313 Failed to download cannot identify image file 'C:/test/classifier/dataset/test_set/tree/f09feb52-08f8-4357-99b5-df516c182e12.png' :-(\n",
      "314 Downloaded and verified tree in test\n",
      "single prediction copy included\n",
      "315 Downloaded and verified tree in test\n",
      "316 Downloaded and verified tree in test\n",
      "316 Failed to download HTTP Error 403: Forbidden :-(\n",
      "317 Downloaded and verified tree in test\n",
      "318 Downloaded and verified tree in test\n",
      "319 Downloaded and verified tree in test\n",
      "320 Downloaded and verified tree in test\n",
      "Done downloading tree! Total of 320 images\n",
      "Done downloading everything, congratulations!!\n"
     ]
    }
   ],
   "source": [
    "ImageFile.LOAD_TRUNCATED_IMAGES = True\n",
    "\n",
    "print (f'Proceeding to download {class_names} images at best effort :-)')\n",
    "print (f'I will download {training_images_per_class} training images and {test_images_per_class} test images per class, totalling {training_images_per_class + test_images_per_class} images')\n",
    "print ('------------------------------------------')\n",
    "for class_name in class_names:\n",
    "    print ('')\n",
    "    print (f'Downloading {class_name}')\n",
    "    print ('------------------------------------------')\n",
    "    # open the downloaded chrome file with all the urls\n",
    "    f=open(f'{basepath_download}/{class_name}','r')\n",
    "\n",
    "    # Make sure training and test sub paths exist. \n",
    "    # Careful, if you execute this code twice it will simply add new files. Old files will not be deleted\n",
    "    basepath_training = f'{basepath}/training_set/{class_name}' \n",
    "    os.makedirs(basepath_training, exist_ok=True)\n",
    "\n",
    "    basepath_test = f'{basepath}/test_set/{class_name}' \n",
    "    os.makedirs(basepath_test, exist_ok=True)\n",
    "\n",
    "    # download each file\n",
    "    count = len(os.listdir(basepath_training)) + len(os.listdir(basepath_test))\n",
    "    print (f'Previously already downloaded {count} images')\n",
    "    for url in f:\n",
    "        # limit to xxx images, download extra images for testing purposes\n",
    "        if count>=training_images_per_class+test_images_per_class:\n",
    "            break;\n",
    "\n",
    "        # check where to download the image to\n",
    "        new_uuid = uuid.uuid4()\n",
    "        type_download = ''\n",
    "        if count+1<= training_images_per_class:\n",
    "            filename = f'{basepath_training}/{new_uuid}.png' \n",
    "            type_download = 'training'\n",
    "        else:\n",
    "            filename = f'{basepath_test}/{new_uuid}.png' \n",
    "            type_download = 'test'\n",
    "\n",
    "        # the actual download. Make sure files are not corrupted\n",
    "        try:\n",
    "            # download the file\n",
    "            urllib.request.urlretrieve(url, filename)\n",
    "\n",
    "            # check if the file is ok\n",
    "            img = Image.open(filename)\n",
    "            img.verify()\n",
    "\n",
    "            # for 20% of the test images, copy to single prediction\n",
    "            if (type_download == 'test' and random.randint(0, 100)<20):\n",
    "                sp_file = f'{basepath_single_prediction}/{new_uuid}.png' \n",
    "                copyfile(filename, sp_file)\n",
    "                print (\"single prediction copy included\")\n",
    "\n",
    "            count+= 1\n",
    "            print (count, f\"Downloaded and verified {class_name} in {type_download}\")\n",
    "\n",
    "        except Exception as e:\n",
    "            # remove the corrupt file if it exists\n",
    "            if os.path.isfile(filename):\n",
    "                os.remove(filename)\n",
    "            print (count, 'Failed to download', e, ':-(')\n",
    "\n",
    "    print (f'Done downloading {class_name}! Total of {count} images')\n",
    "    \n",
    "print ('Done downloading everything, congratulations!!')"
   ]
  },
  {
   "cell_type": "code",
   "execution_count": 3,
   "metadata": {},
   "outputs": [
    {
     "name": "stderr",
     "output_type": "stream",
     "text": [
      "Using TensorFlow backend.\n"
     ]
    },
    {
     "name": "stdout",
     "output_type": "stream",
     "text": [
      "WARNING:tensorflow:From C:\\Users\\mvanderuitenbeek\\AppData\\Local\\Continuum\\anaconda3\\lib\\site-packages\\tensorflow\\python\\framework\\op_def_library.py:263: colocate_with (from tensorflow.python.framework.ops) is deprecated and will be removed in a future version.\n",
      "Instructions for updating:\n",
      "Colocations handled automatically by placer.\n"
     ]
    }
   ],
   "source": [
    "# Importing the Keras libraries and packages\n",
    "from keras.models import Sequential\n",
    "from keras.layers import Conv2D\n",
    "from keras.layers import MaxPooling2D\n",
    "from keras.layers import Flatten\n",
    "from keras.layers import Dense\n",
    "\n",
    "from PIL import ImageFile\n",
    "ImageFile.LOAD_TRUNCATED_IMAGES = True\n",
    "\n",
    "# Initialising the CNN\n",
    "classifier = Sequential() # simpel model met layers lineair achter elkaar\n",
    "# Step 1 - Convolution\n",
    "# change input_shape = (64, 64, 3) to input_shape = (64, 64, 1) for grayscale\n",
    "classifier.add(Conv2D(32, (3, 3), input_shape = (64, 64, 3), activation = 'relu')) \n",
    "# Step 2 - Pooling\n",
    "classifier.add(MaxPooling2D(pool_size = (2, 2)))\n",
    "# Adding a second convolutional layer\n",
    "classifier.add(Conv2D(32, (3, 3), activation = 'relu'))\n",
    "classifier.add(MaxPooling2D(pool_size = (2, 2)))\n",
    "\n",
    "# Step 3 - Flattening\n",
    "classifier.add(Flatten())\n",
    "# Step 4 - Full connection\n",
    "classifier.add(Dense(units = 128, activation = 'relu'))\n",
    "classifier.add(Dense(units = 1, activation = 'sigmoid'))\n",
    "# Compiling the CNN\n",
    "classifier.compile(optimizer = 'adam', loss = 'binary_crossentropy', metrics = ['accuracy'])"
   ]
  },
  {
   "cell_type": "code",
   "execution_count": 4,
   "metadata": {
    "scrolled": false
   },
   "outputs": [
    {
     "name": "stdout",
     "output_type": "stream",
     "text": [
      "Found 512 images belonging to 2 classes.\n",
      "Found 128 images belonging to 2 classes.\n",
      "WARNING:tensorflow:From C:\\Users\\mvanderuitenbeek\\AppData\\Local\\Continuum\\anaconda3\\lib\\site-packages\\tensorflow\\python\\ops\\math_ops.py:3066: to_int32 (from tensorflow.python.ops.math_ops) is deprecated and will be removed in a future version.\n",
      "Instructions for updating:\n",
      "Use tf.cast instead.\n",
      "Epoch 1/10\n"
     ]
    },
    {
     "name": "stderr",
     "output_type": "stream",
     "text": [
      "C:\\Users\\mvanderuitenbeek\\AppData\\Local\\Continuum\\anaconda3\\lib\\site-packages\\PIL\\Image.py:952: UserWarning: Palette images with Transparency   expressed in bytes should be converted to RGBA images\n",
      "  ' expressed in bytes should be converted ' +\n"
     ]
    },
    {
     "name": "stdout",
     "output_type": "stream",
     "text": [
      "8/8 [==============================] - 48s 6s/step - loss: 0.7323 - acc: 0.5586 - val_loss: 0.5444 - val_acc: 0.7656\n",
      "Epoch 2/10\n",
      "8/8 [==============================] - 47s 6s/step - loss: 0.5584 - acc: 0.7031 - val_loss: 0.4056 - val_acc: 0.8281\n",
      "Epoch 3/10\n",
      "8/8 [==============================] - 51s 6s/step - loss: 0.4500 - acc: 0.7891 - val_loss: 0.3513 - val_acc: 0.8750\n",
      "Epoch 4/10\n",
      "8/8 [==============================] - 50s 6s/step - loss: 0.3109 - acc: 0.8945 - val_loss: 0.5194 - val_acc: 0.7891\n",
      "Epoch 5/10\n",
      "8/8 [==============================] - 49s 6s/step - loss: 0.2660 - acc: 0.9023 - val_loss: 0.2314 - val_acc: 0.8984\n",
      "Epoch 6/10\n",
      "8/8 [==============================] - 48s 6s/step - loss: 0.2944 - acc: 0.8750 - val_loss: 0.3312 - val_acc: 0.8516\n",
      "Epoch 7/10\n",
      "8/8 [==============================] - 47s 6s/step - loss: 0.2122 - acc: 0.9336 - val_loss: 0.3741 - val_acc: 0.8516\n",
      "Epoch 8/10\n",
      "8/8 [==============================] - 45s 6s/step - loss: 0.2701 - acc: 0.8945 - val_loss: 0.3264 - val_acc: 0.8438\n",
      "Epoch 9/10\n",
      "8/8 [==============================] - 44s 5s/step - loss: 0.1940 - acc: 0.9336 - val_loss: 0.5301 - val_acc: 0.8047\n",
      "Epoch 10/10\n",
      "8/8 [==============================] - 44s 5s/step - loss: 0.3105 - acc: 0.8750 - val_loss: 0.2338 - val_acc: 0.8984\n"
     ]
    }
   ],
   "source": [
    "# Part 2 - Fitting the CNN to the images\n",
    "from keras.preprocessing.image import ImageDataGenerator\n",
    "\n",
    "train_datagen = ImageDataGenerator(rescale = 1./255,\n",
    "                                   shear_range = 0.2,\n",
    "                                   zoom_range = 0.2,\n",
    "                                   horizontal_flip = True)\n",
    "\n",
    "test_datagen = ImageDataGenerator(rescale = 1./255)\n",
    "\n",
    "training_set = train_datagen.flow_from_directory(f'{basepath}/training_set', \n",
    "                                                 target_size = (64, 64), \n",
    "                                                 batch_size = 32, \n",
    "                                                 color_mode='rgb', # dit is veel langzamer dan grayscale\n",
    "                                                 class_mode = 'binary')\n",
    "\n",
    "test_set = test_datagen.flow_from_directory(f'{basepath}/test_set', \n",
    "                                            target_size = (64, 64), \n",
    "                                            batch_size = 32, \n",
    "                                            color_mode='rgb', # dit is veel langzamer dan grayscale\n",
    "                                            class_mode = 'binary')\n",
    "history = classifier.fit_generator(training_set, \n",
    "                         steps_per_epoch = training_images_per_class/32, # number of images per class / batch size\n",
    "                         epochs = 10, # number of times you expose the full dataset to the neural network\n",
    "                         validation_data = test_set,\n",
    "                         validation_steps = test_images_per_class)"
   ]
  },
  {
   "cell_type": "code",
   "execution_count": 7,
   "metadata": {},
   "outputs": [
    {
     "data": {
      "text/plain": [
       "[]"
      ]
     },
     "execution_count": 7,
     "metadata": {},
     "output_type": "execute_result"
    },
    {
     "data": {
      "image/png": "[encoded data removed]",
      "text/plain": [
       "<Figure size 432x288 with 1 Axes>"
      ]
     },
     "metadata": {
      "needs_background": "light"
     },
     "output_type": "display_data"
    },
    {
     "data": {
      "image/png": "[encoded data removed]",
      "text/plain": [
       "<Figure size 432x288 with 1 Axes>"
      ]
     },
     "metadata": {
      "needs_background": "light"
     },
     "output_type": "display_data"
    }
   ],
   "source": [
    "from matplotlib import pyplot as plt\n",
    "# get results from training\n",
    "acc = history.history['acc']\n",
    "val_acc = history.history['val_acc']\n",
    "loss = history.history['loss']\n",
    "val_loss = history.history['val_loss']\n",
    "epochs = range(1, len(acc) + 1)\n",
    "\n",
    "# plot the accuracy\n",
    "plt.plot(epochs, acc, 'bo', label='Training acc')\n",
    "plt.plot(epochs, val_acc, 'b', label='Validation acc')\n",
    "plt.title('Training and validation accuracy')\n",
    "plt.legend()\n",
    "plt.figure()\n",
    "\n",
    "# plot the loss\n",
    "plt.plot(epochs, loss, 'bo', label='Training loss')\n",
    "plt.plot(epochs, val_loss, 'b', label='Validation loss')\n",
    "plt.title('Training and validation loss')\n",
    "plt.legend()\n",
    "\n",
    "# print the result to screen\n",
    "plt.plot()"
   ]
  },
  {
   "cell_type": "code",
   "execution_count": 45,
   "metadata": {},
   "outputs": [
    {
     "name": "stdout",
     "output_type": "stream",
     "text": [
      "I trained these classifications: {'cat': 0, 'tree': 1}\n"
     ]
    },
    {
     "data": {
      "image/png": "[encoded data removed]",
      "text/plain": [
       "<PIL.PngImagePlugin.PngImageFile image mode=RGBA size=50x64 at 0x23122D14BA8>"
      ]
     },
     "metadata": {},
     "output_type": "display_data"
    },
    {
     "data": {
      "text/plain": [
       "'I believe this is a tree'"
      ]
     },
     "metadata": {},
     "output_type": "display_data"
    },
    {
     "name": "stdout",
     "output_type": "stream",
     "text": [
      "----------------------------------\n"
     ]
    },
    {
     "data": {
      "image/png": "[encoded data removed]",
      "text/plain": [
       "<PIL.PngImagePlugin.PngImageFile image mode=P size=64x46 at 0x23122D14D68>"
      ]
     },
     "metadata": {},
     "output_type": "display_data"
    },
    {
     "data": {
      "text/plain": [
       "'I believe this is a cat'"
      ]
     },
     "metadata": {},
     "output_type": "display_data"
    },
    {
     "name": "stdout",
     "output_type": "stream",
     "text": [
      "----------------------------------\n"
     ]
    },
    {
     "data": {
      "image/png": "[encoded data removed]",
      "text/plain": [
       "<PIL.PngImagePlugin.PngImageFile image mode=RGBA size=56x64 at 0x23122D14198>"
      ]
     },
     "metadata": {},
     "output_type": "display_data"
    },
    {
     "data": {
      "text/plain": [
       "'I believe this is a tree'"
      ]
     },
     "metadata": {},
     "output_type": "display_data"
    },
    {
     "name": "stdout",
     "output_type": "stream",
     "text": [
      "----------------------------------\n"
     ]
    },
    {
     "data": {
      "image/png": "[encoded data removed]",
      "text/plain": [
       "<PIL.PngImagePlugin.PngImageFile image mode=RGB size=64x42 at 0x23122D14748>"
      ]
     },
     "metadata": {},
     "output_type": "display_data"
    },
    {
     "data": {
      "text/plain": [
       "'I believe this is a tree'"
      ]
     },
     "metadata": {},
     "output_type": "display_data"
    },
    {
     "name": "stdout",
     "output_type": "stream",
     "text": [
      "----------------------------------\n"
     ]
    },
    {
     "data": {
      "image/png": "[encoded data removed]",
      "text/plain": [
       "<PIL.PngImagePlugin.PngImageFile image mode=RGBA size=64x35 at 0x23122D14D68>"
      ]
     },
     "metadata": {},
     "output_type": "display_data"
    },
    {
     "data": {
      "text/plain": [
       "'no idea'"
      ]
     },
     "metadata": {},
     "output_type": "display_data"
    },
    {
     "name": "stdout",
     "output_type": "stream",
     "text": [
      "----------------------------------\n"
     ]
    },
    {
     "data": {
      "image/png": "[encoded data removed]",
      "text/plain": [
       "<PIL.PngImagePlugin.PngImageFile image mode=RGBA size=64x64 at 0x23122D14198>"
      ]
     },
     "metadata": {},
     "output_type": "display_data"
    },
    {
     "data": {
      "text/plain": [
       "'I believe this is a cat'"
      ]
     },
     "metadata": {},
     "output_type": "display_data"
    },
    {
     "name": "stdout",
     "output_type": "stream",
     "text": [
      "----------------------------------\n"
     ]
    },
    {
     "data": {
      "image/png": "[encoded data removed]",
      "text/plain": [
       "<PIL.PngImagePlugin.PngImageFile image mode=RGBA size=64x20 at 0x23122D14DD8>"
      ]
     },
     "metadata": {},
     "output_type": "display_data"
    },
    {
     "data": {
      "text/plain": [
       "'I believe this is a tree'"
      ]
     },
     "metadata": {},
     "output_type": "display_data"
    },
    {
     "name": "stdout",
     "output_type": "stream",
     "text": [
      "----------------------------------\n"
     ]
    },
    {
     "data": {
      "image/png": "[encoded data removed]",
      "text/plain": [
       "<PIL.PngImagePlugin.PngImageFile image mode=P size=64x33 at 0x23122D14D68>"
      ]
     },
     "metadata": {},
     "output_type": "display_data"
    },
    {
     "data": {
      "text/plain": [
       "'I believe this is a tree'"
      ]
     },
     "metadata": {},
     "output_type": "display_data"
    },
    {
     "name": "stdout",
     "output_type": "stream",
     "text": [
      "----------------------------------\n"
     ]
    },
    {
     "data": {
      "image/png": "[encoded data removed]",
      "text/plain": [
       "<PIL.PngImagePlugin.PngImageFile image mode=RGB size=64x36 at 0x23122D14198>"
      ]
     },
     "metadata": {},
     "output_type": "display_data"
    },
    {
     "data": {
      "text/plain": [
       "'I believe this is a cat'"
      ]
     },
     "metadata": {},
     "output_type": "display_data"
    },
    {
     "name": "stdout",
     "output_type": "stream",
     "text": [
      "----------------------------------\n"
     ]
    },
    {
     "data": {
      "image/png": "[encoded data removed]",
      "text/plain": [
       "<PIL.PngImagePlugin.PngImageFile image mode=RGBA size=64x40 at 0x23122D140F0>"
      ]
     },
     "metadata": {},
     "output_type": "display_data"
    },
    {
     "data": {
      "text/plain": [
       "'I believe this is a tree'"
      ]
     },
     "metadata": {},
     "output_type": "display_data"
    },
    {
     "name": "stdout",
     "output_type": "stream",
     "text": [
      "----------------------------------\n"
     ]
    },
    {
     "data": {
      "image/png": "[encoded data removed]",
      "text/plain": [
       "<PIL.PngImagePlugin.PngImageFile image mode=RGB size=64x47 at 0x23122D14EB8>"
      ]
     },
     "metadata": {},
     "output_type": "display_data"
    },
    {
     "data": {
      "text/plain": [
       "'I believe this is a tree'"
      ]
     },
     "metadata": {},
     "output_type": "display_data"
    },
    {
     "name": "stdout",
     "output_type": "stream",
     "text": [
      "----------------------------------\n"
     ]
    },
    {
     "data": {
      "image/png": "[encoded data removed]",
      "text/plain": [
       "<PIL.PngImagePlugin.PngImageFile image mode=RGBA size=64x32 at 0x23122D14DD8>"
      ]
     },
     "metadata": {},
     "output_type": "display_data"
    },
    {
     "data": {
      "text/plain": [
       "'I believe this is a tree'"
      ]
     },
     "metadata": {},
     "output_type": "display_data"
    },
    {
     "name": "stdout",
     "output_type": "stream",
     "text": [
      "----------------------------------\n"
     ]
    },
    {
     "data": {
      "image/png": "[encoded data removed]",
      "text/plain": [
       "<PIL.PngImagePlugin.PngImageFile image mode=RGB size=64x22 at 0x23122D14198>"
      ]
     },
     "metadata": {},
     "output_type": "display_data"
    },
    {
     "data": {
      "text/plain": [
       "'I believe this is a tree'"
      ]
     },
     "metadata": {},
     "output_type": "display_data"
    },
    {
     "name": "stdout",
     "output_type": "stream",
     "text": [
      "----------------------------------\n"
     ]
    },
    {
     "data": {
      "image/png": "[encoded data removed]",
      "text/plain": [
       "<PIL.PngImagePlugin.PngImageFile image mode=RGB size=50x64 at 0x23122D14D68>"
      ]
     },
     "metadata": {},
     "output_type": "display_data"
    },
    {
     "data": {
      "text/plain": [
       "'I believe this is a tree'"
      ]
     },
     "metadata": {},
     "output_type": "display_data"
    },
    {
     "name": "stdout",
     "output_type": "stream",
     "text": [
      "----------------------------------\n"
     ]
    },
    {
     "data": {
      "image/png": "[encoded data removed]",
      "text/plain": [
       "<PIL.PngImagePlugin.PngImageFile image mode=RGBA size=64x36 at 0x23122D14DD8>"
      ]
     },
     "metadata": {},
     "output_type": "display_data"
    },
    {
     "data": {
      "text/plain": [
       "'I believe this is a tree'"
      ]
     },
     "metadata": {},
     "output_type": "display_data"
    },
    {
     "name": "stdout",
     "output_type": "stream",
     "text": [
      "----------------------------------\n"
     ]
    },
    {
     "data": {
      "image/png": "[encoded data removed]",
      "text/plain": [
       "<PIL.PngImagePlugin.PngImageFile image mode=RGBA size=43x64 at 0x23122D14198>"
      ]
     },
     "metadata": {},
     "output_type": "display_data"
    },
    {
     "data": {
      "text/plain": [
       "'I believe this is a cat'"
      ]
     },
     "metadata": {},
     "output_type": "display_data"
    },
    {
     "name": "stdout",
     "output_type": "stream",
     "text": [
      "----------------------------------\n"
     ]
    },
    {
     "data": {
      "image/png": "[encoded data removed]",
      "text/plain": [
       "<PIL.PngImagePlugin.PngImageFile image mode=P size=64x35 at 0x23122D14D68>"
      ]
     },
     "metadata": {},
     "output_type": "display_data"
    },
    {
     "data": {
      "text/plain": [
       "'I believe this is a tree'"
      ]
     },
     "metadata": {},
     "output_type": "display_data"
    },
    {
     "name": "stdout",
     "output_type": "stream",
     "text": [
      "----------------------------------\n"
     ]
    },
    {
     "data": {
      "image/png": "[encoded data removed]",
      "text/plain": [
       "<PIL.PngImagePlugin.PngImageFile image mode=RGBA size=64x33 at 0x23122D14198>"
      ]
     },
     "metadata": {},
     "output_type": "display_data"
    },
    {
     "data": {
      "text/plain": [
       "'I believe this is a cat'"
      ]
     },
     "metadata": {},
     "output_type": "display_data"
    },
    {
     "name": "stdout",
     "output_type": "stream",
     "text": [
      "----------------------------------\n"
     ]
    },
    {
     "data": {
      "image/png": "[encoded data removed]",
      "text/plain": [
       "<PIL.PngImagePlugin.PngImageFile image mode=P size=63x64 at 0x23122D14DD8>"
      ]
     },
     "metadata": {},
     "output_type": "display_data"
    },
    {
     "data": {
      "text/plain": [
       "'I believe this is a cat'"
      ]
     },
     "metadata": {},
     "output_type": "display_data"
    },
    {
     "name": "stdout",
     "output_type": "stream",
     "text": [
      "----------------------------------\n"
     ]
    },
    {
     "data": {
      "image/png": "[encoded data removed]",
      "text/plain": [
       "<PIL.PngImagePlugin.PngImageFile image mode=RGBA size=64x33 at 0x23122D14198>"
      ]
     },
     "metadata": {},
     "output_type": "display_data"
    },
    {
     "data": {
      "text/plain": [
       "'I believe this is a tree'"
      ]
     },
     "metadata": {},
     "output_type": "display_data"
    },
    {
     "name": "stdout",
     "output_type": "stream",
     "text": [
      "----------------------------------\n"
     ]
    }
   ],
   "source": [
    "# Part 3 - Making new predictions\n",
    "import numpy as np\n",
    "from keras.preprocessing import image\n",
    "\n",
    "files = os.listdir(basepath_single_prediction)\n",
    "\n",
    "# list the categories that were trained (cat, elvis, dog etc)\n",
    "classifications=training_set.class_indices\n",
    "print (\"I trained these classifications:\", classifications)\n",
    "\n",
    "# now iterate through all the images we want analysed in the single_prediction folder and predict their classification\n",
    "for file in files:\n",
    "    # predict and save result\n",
    "    test_image = image.load_img(f'{basepath_single_prediction}/{file}', target_size = (64, 64), grayscale=False)\n",
    "    test_image = image.img_to_array(test_image)\n",
    "    test_image = np.expand_dims(test_image, axis = 0)\n",
    "    result = classifier.predict(test_image)\n",
    "\n",
    "    # see what folder name (class) the result belongs to\n",
    "    prediction = \"no idea\"\n",
    "    index = result[0][0]\n",
    "    if index % 1 == 0:\n",
    "        classification = class_names[int(result[0][0])]\n",
    "        prediction = f'I believe this is a {classification}'\n",
    "\n",
    "    # show the image and the prediction\n",
    "    pil_im = Image.open(f'{basepath_single_prediction}/{file}')\n",
    "    pil_im.thumbnail((64,64))\n",
    "    display(pil_im, prediction)\n",
    "    print ('----------------------------------')\n"
   ]
  },
  {
   "cell_type": "code",
   "execution_count": null,
   "metadata": {},
   "outputs": [],
   "source": []
  }
 ],
 "metadata": {
  "kernelspec": {
   "display_name": "Python 3",
   "language": "python",
   "name": "python3"
  },
  "language_info": {
   "codemirror_mode": {
    "name": "ipython",
    "version": 3
   },
   "file_extension": ".py",
   "mimetype": "text/x-python",
   "name": "python",
   "nbconvert_exporter": "python",
   "pygments_lexer": "ipython3",
   "version": "3.7.1"
  }
 },
 "nbformat": 4,
 "nbformat_minor": 2
}
